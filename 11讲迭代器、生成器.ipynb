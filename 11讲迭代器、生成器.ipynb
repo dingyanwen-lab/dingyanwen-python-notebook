{
 "cells": [
  {
   "cell_type": "markdown",
   "id": "ad784d42",
   "metadata": {},
   "source": [
    "# 1. 可迭代对象 #\n",
    "### 可以用for循环的对象，可以使用isinstance()判断一个对象是否为可迭代对象 ###"
   ]
  },
  {
   "cell_type": "code",
   "execution_count": 13,
   "id": "8d88350f",
   "metadata": {},
   "outputs": [
    {
     "data": {
      "text/plain": [
       "True"
      ]
     },
     "execution_count": 13,
     "metadata": {},
     "output_type": "execute_result"
    }
   ],
   "source": [
    "from collections.abc import Iterable  #从collections包或者是叫基本库里导入一个Iterable类\n",
    "\n",
    "it = {\"a\":101,\"b\":202,\"c\":303}\n",
    "isinstance(it,Iterable)"
   ]
  },
  {
   "cell_type": "code",
   "execution_count": 1,
   "id": "2e7e38dc",
   "metadata": {},
   "outputs": [
    {
     "ename": "ImportError",
     "evalue": "cannot import name 'Iterable' from 'collections' (C:\\Users\\WEN\\AppData\\Local\\Programs\\Python\\Python310\\lib\\collections\\__init__.py)",
     "output_type": "error",
     "traceback": [
      "\u001b[1;31m---------------------------------------------------------------------------\u001b[0m",
      "\u001b[1;31mImportError\u001b[0m                               Traceback (most recent call last)",
      "Input \u001b[1;32mIn [1]\u001b[0m, in \u001b[0;36m<cell line: 1>\u001b[1;34m()\u001b[0m\n\u001b[1;32m----> 1\u001b[0m \u001b[38;5;28;01mfrom\u001b[39;00m \u001b[38;5;21;01mcollections\u001b[39;00m \u001b[38;5;28;01mimport\u001b[39;00m Iterable  \u001b[38;5;66;03m#从collections包或者是叫基本库里导入一个Iterable类\u001b[39;00m\n\u001b[0;32m      3\u001b[0m it \u001b[38;5;241m=\u001b[39m {\u001b[38;5;124m\"\u001b[39m\u001b[38;5;124ma\u001b[39m\u001b[38;5;124m\"\u001b[39m:\u001b[38;5;241m101\u001b[39m,\u001b[38;5;124m\"\u001b[39m\u001b[38;5;124mb\u001b[39m\u001b[38;5;124m\"\u001b[39m:\u001b[38;5;241m202\u001b[39m,\u001b[38;5;124m\"\u001b[39m\u001b[38;5;124mc\u001b[39m\u001b[38;5;124m\"\u001b[39m:\u001b[38;5;241m303\u001b[39m}\n\u001b[0;32m      4\u001b[0m \u001b[38;5;28misinstance\u001b[39m(it,Iterable)\n",
      "\u001b[1;31mImportError\u001b[0m: cannot import name 'Iterable' from 'collections' (C:\\Users\\WEN\\AppData\\Local\\Programs\\Python\\Python310\\lib\\collections\\__init__.py)"
     ]
    }
   ],
   "source": [
    "from collections import Iterable  #从collections包或者是叫基本库里导入一个Iterable类\n",
    "\n",
    "it = {\"a\":101,\"b\":202,\"c\":303}\n",
    "isinstance(it,Iterable)"
   ]
  },
  {
   "cell_type": "code",
   "execution_count": 14,
   "id": "ff883b1c",
   "metadata": {},
   "outputs": [
    {
     "data": {
      "text/plain": [
       "True"
      ]
     },
     "execution_count": 14,
     "metadata": {},
     "output_type": "execute_result"
    }
   ],
   "source": [
    "it = {\"a\":101,\"b\":202,\"c\":303}\n",
    "isinstance(it,Iterable)"
   ]
  },
  {
   "cell_type": "code",
   "execution_count": 11,
   "id": "b14ca5cb",
   "metadata": {},
   "outputs": [
    {
     "data": {
      "text/plain": [
       "True"
      ]
     },
     "execution_count": 11,
     "metadata": {},
     "output_type": "execute_result"
    }
   ],
   "source": [
    "from collections.abc import Iterable\n",
    "isinstance('abc',Iterable)"
   ]
  },
  {
   "cell_type": "markdown",
   "id": "0136157c",
   "metadata": {},
   "source": [
    "# 2. 迭代器 #"
   ]
  },
  {
   "cell_type": "markdown",
   "id": "e613c3b8",
   "metadata": {},
   "source": [
    "### 迭代器只能往前不能往后，可以用iter方法创建 ###"
   ]
  },
  {
   "cell_type": "markdown",
   "id": "5ad15125",
   "metadata": {},
   "source": [
    "### 迭代器不要求事先准备好迭代过程中的所有元素，仅仅在迭代到某个元素时才计算该元素，而在这之前或之后，元素可以不存在或者被销毁 ###\n",
    "### 它特别适合用于遍历一些巨大的或者无限的集合 ###\n",
    "###  可迭代对象不一定时迭代器，但是迭代器时一个可迭代对象 ###"
   ]
  },
  {
   "cell_type": "code",
   "execution_count": 20,
   "id": "421548fc",
   "metadata": {},
   "outputs": [
    {
     "name": "stdout",
     "output_type": "stream",
     "text": [
      "a b c "
     ]
    }
   ],
   "source": [
    "it = {\"a\":101,\"b\":202,\"c\":303}\n",
    "for keys in it:\n",
    "    print (keys,end = \" \")"
   ]
  },
  {
   "cell_type": "code",
   "execution_count": 21,
   "id": "35120db0",
   "metadata": {},
   "outputs": [
    {
     "data": {
      "text/plain": [
       "<dict_keyiterator at 0x1b8c0c0c630>"
      ]
     },
     "execution_count": 21,
     "metadata": {},
     "output_type": "execute_result"
    }
   ],
   "source": [
    "it = {\"a\":101,\"b\":202,\"c\":303}\n",
    "dic_it = iter(it)\n",
    "dic_it  #以键迭代"
   ]
  },
  {
   "cell_type": "code",
   "execution_count": 22,
   "id": "827bb925",
   "metadata": {
    "scrolled": true
   },
   "outputs": [
    {
     "data": {
      "text/plain": [
       "['a', 'b', 'c']"
      ]
     },
     "execution_count": 22,
     "metadata": {},
     "output_type": "execute_result"
    }
   ],
   "source": [
    "list(dic_it)"
   ]
  },
  {
   "cell_type": "code",
   "execution_count": 25,
   "id": "a455b7d5",
   "metadata": {},
   "outputs": [
    {
     "data": {
      "text/plain": [
       "'a'"
      ]
     },
     "execution_count": 25,
     "metadata": {},
     "output_type": "execute_result"
    }
   ],
   "source": [
    "it = {\"a\":101,\"b\":202,\"c\":303}\n",
    "dic_it = iter(it)\n",
    "next(dic_it)"
   ]
  },
  {
   "cell_type": "code",
   "execution_count": 26,
   "id": "e3667b94",
   "metadata": {},
   "outputs": [
    {
     "data": {
      "text/plain": [
       "'b'"
      ]
     },
     "execution_count": 26,
     "metadata": {},
     "output_type": "execute_result"
    }
   ],
   "source": [
    "next(dic_it)"
   ]
  },
  {
   "cell_type": "code",
   "execution_count": 27,
   "id": "7e627b8e",
   "metadata": {},
   "outputs": [
    {
     "data": {
      "text/plain": [
       "'c'"
      ]
     },
     "execution_count": 27,
     "metadata": {},
     "output_type": "execute_result"
    }
   ],
   "source": [
    "next(dic_it)"
   ]
  },
  {
   "cell_type": "code",
   "execution_count": 28,
   "id": "16af73b3",
   "metadata": {},
   "outputs": [
    {
     "ename": "StopIteration",
     "evalue": "",
     "output_type": "error",
     "traceback": [
      "\u001b[1;31m---------------------------------------------------------------------------\u001b[0m",
      "\u001b[1;31mStopIteration\u001b[0m                             Traceback (most recent call last)",
      "Input \u001b[1;32mIn [28]\u001b[0m, in \u001b[0;36m<cell line: 1>\u001b[1;34m()\u001b[0m\n\u001b[1;32m----> 1\u001b[0m \u001b[38;5;28;43mnext\u001b[39;49m\u001b[43m(\u001b[49m\u001b[43mdic_it\u001b[49m\u001b[43m)\u001b[49m\n",
      "\u001b[1;31mStopIteration\u001b[0m: "
     ]
    }
   ],
   "source": [
    "next(dic_it)"
   ]
  },
  {
   "cell_type": "markdown",
   "id": "8548a130",
   "metadata": {},
   "source": [
    "# 3. 生成器 ---26‘29 #"
   ]
  },
  {
   "cell_type": "markdown",
   "id": "2baabd95",
   "metadata": {},
   "source": [
    "## 构造新的迭代对象的一种简单方式，一边循环一边计算的机制 ##"
   ]
  },
  {
   "cell_type": "markdown",
   "id": "29715f0d",
   "metadata": {},
   "source": [
    "### 一般函数执行之后只会返回单个值，而生成器则是以延迟的方式返回一个值的序列：即返回一个值之后暂停，直到下一个值被请求时再继续 ###"
   ]
  },
  {
   "cell_type": "markdown",
   "id": "21300eea",
   "metadata": {},
   "source": [
    "### 如：创建一亿个元素的列表，需要占用巨大的存储空间。如果仅需要访问前几个元素，那后面绝大多数元素占用的空间就白白浪费，所以，如果该列表元素可以按照某种算法推动算出来，那就可以在循环的过程中不断推算出后续的元素，这样就不必创建完整的list，从而节省大量的空间。 ###"
   ]
  },
  {
   "cell_type": "markdown",
   "id": "64eda3d7",
   "metadata": {},
   "source": [
    "## 3.1 生成器的创建方式 ##"
   ]
  },
  {
   "cell_type": "markdown",
   "id": "98691bc6",
   "metadata": {},
   "source": [
    "### 把列表推导式两端的方括号修改为圆括号 ###"
   ]
  },
  {
   "cell_type": "code",
   "execution_count": 1,
   "id": "65610200",
   "metadata": {
    "scrolled": true
   },
   "outputs": [],
   "source": [
    "gen_l = [x*2 for x in range(100)]  #推导式"
   ]
  },
  {
   "cell_type": "code",
   "execution_count": 3,
   "id": "9f4e49b9",
   "metadata": {},
   "outputs": [
    {
     "data": {
      "text/plain": [
       "<generator object <genexpr> at 0x000001FA7FF9CB30>"
      ]
     },
     "execution_count": 3,
     "metadata": {},
     "output_type": "execute_result"
    }
   ],
   "source": [
    "gen = (x*2 for x in range(100))\n",
    "gen          #0x000001B8C0CB8970生成器存储的地址"
   ]
  },
  {
   "cell_type": "code",
   "execution_count": 4,
   "id": "37db333c",
   "metadata": {},
   "outputs": [
    {
     "data": {
      "text/plain": [
       "0"
      ]
     },
     "execution_count": 4,
     "metadata": {},
     "output_type": "execute_result"
    }
   ],
   "source": [
    "#使用生成器的next方法\n",
    "gen.__next__()"
   ]
  },
  {
   "cell_type": "code",
   "execution_count": 5,
   "id": "e89e8a44",
   "metadata": {},
   "outputs": [
    {
     "data": {
      "text/plain": [
       "2"
      ]
     },
     "execution_count": 5,
     "metadata": {},
     "output_type": "execute_result"
    }
   ],
   "source": [
    "gen.__next__()"
   ]
  },
  {
   "cell_type": "code",
   "execution_count": 6,
   "id": "9e8141e7",
   "metadata": {},
   "outputs": [
    {
     "data": {
      "text/plain": [
       "4"
      ]
     },
     "execution_count": 6,
     "metadata": {},
     "output_type": "execute_result"
    }
   ],
   "source": [
    "#next()\n",
    "next(gen)"
   ]
  },
  {
   "cell_type": "markdown",
   "id": "5635a2df",
   "metadata": {},
   "source": [
    "### 生成器可以应用于python中的所有函数 ###"
   ]
  },
  {
   "cell_type": "code",
   "execution_count": 7,
   "id": "163f4d02",
   "metadata": {},
   "outputs": [
    {
     "data": {
      "text/plain": [
       "9894"
      ]
     },
     "execution_count": 7,
     "metadata": {},
     "output_type": "execute_result"
    }
   ],
   "source": [
    "sum(gen)"
   ]
  },
  {
   "cell_type": "code",
   "execution_count": 8,
   "id": "9cd7db85",
   "metadata": {},
   "outputs": [
    {
     "data": {
      "text/plain": [
       "9900"
      ]
     },
     "execution_count": 8,
     "metadata": {},
     "output_type": "execute_result"
    }
   ],
   "source": [
    "gen = (x*2 for x in range(100))\n",
    "sum(gen)    #求和有差距是因为之前已经调用了前三个数据"
   ]
  },
  {
   "cell_type": "code",
   "execution_count": 9,
   "id": "2b8250d8",
   "metadata": {},
   "outputs": [
    {
     "data": {
      "text/plain": [
       "0"
      ]
     },
     "execution_count": 9,
     "metadata": {},
     "output_type": "execute_result"
    }
   ],
   "source": [
    "sum(gen)    #数据已经调用完了"
   ]
  },
  {
   "cell_type": "code",
   "execution_count": 2,
   "id": "a484c2f3",
   "metadata": {},
   "outputs": [
    {
     "data": {
      "text/plain": [
       "<generator object <genexpr> at 0x00000126E47E2570>"
      ]
     },
     "execution_count": 2,
     "metadata": {},
     "output_type": "execute_result"
    }
   ],
   "source": [
    "x = [0,1,2,3,4,5,6,7,8,9]\n",
    "xx = (i+1 for i in x)\n",
    "xx"
   ]
  },
  {
   "cell_type": "markdown",
   "id": "95931248",
   "metadata": {},
   "source": [
    "## 3.2 生成器函数 ##"
   ]
  },
  {
   "cell_type": "markdown",
   "id": "e9dcbca1",
   "metadata": {},
   "source": [
    "### 要创建一个生成器函数，只需要将函数中的return语句替换成yield即可 ###"
   ]
  },
  {
   "cell_type": "code",
   "execution_count": 6,
   "id": "32504be4",
   "metadata": {},
   "outputs": [
    {
     "name": "stdout",
     "output_type": "stream",
     "text": [
      "generating squares from 1 to 9\n"
     ]
    }
   ],
   "source": [
    "n=3\n",
    "print(\"generating squares from 1 to %d\" % (n**2))"
   ]
  },
  {
   "cell_type": "code",
   "execution_count": 7,
   "id": "9e4fc16b",
   "metadata": {},
   "outputs": [
    {
     "name": "stdout",
     "output_type": "stream",
     "text": [
      "<generator object squares at 0x00000126E6275BD0>\n"
     ]
    }
   ],
   "source": [
    "def squares(n=10):\n",
    "    print(\"generating squares from 1 to %d\" % (n**2))\n",
    "    for i in range(1,n+1):\n",
    "        yield i**2\n",
    "\n",
    "ss = squares()\n",
    "print(ss)  #不去发出调用生成器元素的请求，无法打印出生成器里的元素"
   ]
  },
  {
   "cell_type": "code",
   "execution_count": 9,
   "id": "84cfca5d",
   "metadata": {},
   "outputs": [
    {
     "name": "stdout",
     "output_type": "stream",
     "text": [
      "generating squares from 1 to 100\n",
      "1 4 9 16 25 36 49 64 81 100 "
     ]
    }
   ],
   "source": [
    "ss = squares()\n",
    "for x in ss:\n",
    "    print(x, end=\" \")"
   ]
  },
  {
   "cell_type": "code",
   "execution_count": 10,
   "id": "e1870972",
   "metadata": {},
   "outputs": [
    {
     "name": "stdout",
     "output_type": "stream",
     "text": [
      "1 1 2 3 5 8 13 21 34 55 "
     ]
    }
   ],
   "source": [
    "#生成斐波那契数列\n",
    "def fab(max):\n",
    "    n,a,b=0,0,1\n",
    "    while n<max:\n",
    "        yield b\n",
    "        a,b=b,a+b\n",
    "        n+=1\n",
    "\n",
    "for n in fab(10):\n",
    "    print(n,end=\" \")"
   ]
  },
  {
   "cell_type": "markdown",
   "id": "33f15d07",
   "metadata": {},
   "source": [
    "### yield from 允许一个generator将其部分操作委派给另一个generator ###"
   ]
  },
  {
   "cell_type": "code",
   "execution_count": 11,
   "id": "795532e0",
   "metadata": {},
   "outputs": [
    {
     "data": {
      "text/plain": [
       "[5, 4, 3, 2, 1, 0, 1, 2, 3, 4]"
      ]
     },
     "execution_count": 11,
     "metadata": {},
     "output_type": "execute_result"
    }
   ],
   "source": [
    "def aa(x):\n",
    "    yield from range(x,0,-1)\n",
    "    yield from range(x)\n",
    "    \n",
    "list(aa(5))"
   ]
  },
  {
   "cell_type": "code",
   "execution_count": 12,
   "id": "8de211b6",
   "metadata": {},
   "outputs": [
    {
     "data": {
      "text/plain": [
       "[5, 4, 3, 2, 1, 0, 1, 2, 3, 4]"
      ]
     },
     "execution_count": 12,
     "metadata": {},
     "output_type": "execute_result"
    }
   ],
   "source": [
    "def bb(x):\n",
    "    for i in range(x,0,-1):\n",
    "        yield i\n",
    "    for j in range(x):\n",
    "        yield j\n",
    "\n",
    "list(bb(5))"
   ]
  },
  {
   "cell_type": "code",
   "execution_count": null,
   "id": "b08d99cb",
   "metadata": {},
   "outputs": [],
   "source": []
  }
 ],
 "metadata": {
  "kernelspec": {
   "display_name": "Python 3 (ipykernel)",
   "language": "python",
   "name": "python3"
  },
  "language_info": {
   "codemirror_mode": {
    "name": "ipython",
    "version": 3
   },
   "file_extension": ".py",
   "mimetype": "text/x-python",
   "name": "python",
   "nbconvert_exporter": "python",
   "pygments_lexer": "ipython3",
   "version": "3.10.2"
  }
 },
 "nbformat": 4,
 "nbformat_minor": 5
}
