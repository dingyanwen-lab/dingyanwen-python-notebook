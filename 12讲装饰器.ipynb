{
 "cells": [
  {
   "cell_type": "markdown",
   "id": "bd1d3eb3",
   "metadata": {},
   "source": [
    "# 装饰器 #"
   ]
  },
  {
   "cell_type": "markdown",
   "id": "0b022786",
   "metadata": {},
   "source": [
    "## 在代码运行期间动态增加功能的一种方式 ##"
   ]
  },
  {
   "cell_type": "markdown",
   "id": "99a1de92",
   "metadata": {},
   "source": [
    "### 装饰器的本质是一个范围函数的高阶函数（即可接受另一个函数作为参数的函数）。它充分利用了闭包的特性，用于现有函数的包装，从而为现有函数增加功能 ###"
   ]
  },
  {
   "cell_type": "code",
   "execution_count": 5,
   "id": "af85523e",
   "metadata": {},
   "outputs": [],
   "source": [
    "#构建一个计算函数的执行时间的函数\n",
    "import time\n",
    "def timecal(func):\n",
    "    def wrapper(*args,**kw):\n",
    "        start=time.time()\n",
    "        func(*args,**kw)\n",
    "        stop=time.time()\n",
    "        print(\"run time is %s\" %(stop-start))\n",
    "    return wrapper"
   ]
  },
  {
   "cell_type": "code",
   "execution_count": 8,
   "id": "d1d2cc53",
   "metadata": {},
   "outputs": [],
   "source": [
    "#计算N以内的自然数之和\n",
    "def snn(n,beg=1):\n",
    "    \"calculate the sum of natural number within [beg,n]\"\n",
    "    s = 0\n",
    "    for i in range(beg,n+1):\n",
    "        s+=i\n",
    "    print(\"sum of natural numbers within [%s,%s] is %s\" %(beg,n,s))"
   ]
  },
  {
   "cell_type": "code",
   "execution_count": 11,
   "id": "f6be8c68",
   "metadata": {},
   "outputs": [
    {
     "name": "stdout",
     "output_type": "stream",
     "text": [
      "sum of natural numbers within [1,1000000000] is 500000000500000000\n",
      "run time is 32.91594481468201\n"
     ]
    }
   ],
   "source": [
    "timecal(snn)(1000000000)"
   ]
  },
  {
   "cell_type": "markdown",
   "id": "2e4e70c8",
   "metadata": {},
   "source": [
    "### 优雅编程--语法糖 ###"
   ]
  },
  {
   "cell_type": "code",
   "execution_count": 13,
   "id": "7cadefc2",
   "metadata": {},
   "outputs": [
    {
     "name": "stdout",
     "output_type": "stream",
     "text": [
      "sum of natural numbers within [1,10000000] is 50000005000000\n",
      "run time is 0.3421149253845215\n"
     ]
    }
   ],
   "source": [
    "@timecal    #这就是一个装饰器\n",
    "def snn(n,beg=1):\n",
    "    \"calculate the sum of natural number within [beg,n]\"\n",
    "    s = 0\n",
    "    for i in range(beg,n+1):\n",
    "        s+=i\n",
    "    print(\"sum of natural numbers within [%s,%s] is %s\" %(beg,n,s))\n",
    "    \n",
    "snn(10000000)"
   ]
  },
  {
   "cell_type": "code",
   "execution_count": null,
   "id": "e2d5d334",
   "metadata": {},
   "outputs": [],
   "source": []
  }
 ],
 "metadata": {
  "kernelspec": {
   "display_name": "Python 3 (ipykernel)",
   "language": "python",
   "name": "python3"
  },
  "language_info": {
   "codemirror_mode": {
    "name": "ipython",
    "version": 3
   },
   "file_extension": ".py",
   "mimetype": "text/x-python",
   "name": "python",
   "nbconvert_exporter": "python",
   "pygments_lexer": "ipython3",
   "version": "3.10.2"
  }
 },
 "nbformat": 4,
 "nbformat_minor": 5
}
