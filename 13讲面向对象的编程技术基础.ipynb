{
 "cells": [
  {
   "cell_type": "markdown",
   "id": "be7e3825",
   "metadata": {},
   "source": [
    "# 1. 声名类 #"
   ]
  },
  {
   "cell_type": "markdown",
   "id": "730d20de",
   "metadata": {},
   "source": [
    "## 通过class声名，（python中声名和定义是同时进行的），类的名称一般都用首字母大写来表示 ##"
   ]
  },
  {
   "cell_type": "code",
   "execution_count": 1,
   "id": "fce60e15",
   "metadata": {},
   "outputs": [],
   "source": [
    "#定义了名字为Human的类，该类一共有3个属性，每个属性有一个属性值\n",
    "class Human(object):\n",
    "    \"\"\"\n",
    "    新式类默认继承父类 object\n",
    "    \"\"\"\n",
    "    phylum = \"chordata\"\n",
    "    order = \"primates\"\n",
    "    family = \"human being\""
   ]
  },
  {
   "cell_type": "markdown",
   "id": "fc4340cd",
   "metadata": {},
   "source": [
    "# 2. 使用类 #"
   ]
  },
  {
   "cell_type": "markdown",
   "id": "fedf0fe6",
   "metadata": {},
   "source": [
    "## 使用类的时候，需要把这个类实例化，为这个类创建新的实例 ##"
   ]
  },
  {
   "cell_type": "code",
   "execution_count": 2,
   "id": "a454d336",
   "metadata": {},
   "outputs": [],
   "source": [
    "zhangsan = Human()"
   ]
  },
  {
   "cell_type": "code",
   "execution_count": 3,
   "id": "452fb53d",
   "metadata": {},
   "outputs": [
    {
     "data": {
      "text/plain": [
       "<__main__.Human at 0x15d802aec20>"
      ]
     },
     "execution_count": 3,
     "metadata": {},
     "output_type": "execute_result"
    }
   ],
   "source": [
    "zhangsan"
   ]
  },
  {
   "cell_type": "code",
   "execution_count": 4,
   "id": "18d8d35e",
   "metadata": {},
   "outputs": [
    {
     "data": {
      "text/plain": [
       "'chordata'"
      ]
     },
     "execution_count": 4,
     "metadata": {},
     "output_type": "execute_result"
    }
   ],
   "source": [
    "zhangsan.phylum"
   ]
  },
  {
   "cell_type": "markdown",
   "id": "b6077913",
   "metadata": {},
   "source": [
    "## 可以修改实例的属性值，也可修改类的属性值，但是，一旦修改了实例的属性值，该实例就和该类断了联系 ##"
   ]
  },
  {
   "cell_type": "code",
   "execution_count": 6,
   "id": "06941769",
   "metadata": {},
   "outputs": [
    {
     "data": {
      "text/plain": [
       "'human being'"
      ]
     },
     "execution_count": 6,
     "metadata": {},
     "output_type": "execute_result"
    }
   ],
   "source": [
    "zhangsan.family"
   ]
  },
  {
   "cell_type": "code",
   "execution_count": 7,
   "id": "0cb46575",
   "metadata": {},
   "outputs": [],
   "source": [
    "zhangsan.family = \"mankind\""
   ]
  },
  {
   "cell_type": "code",
   "execution_count": 8,
   "id": "b0ce358f",
   "metadata": {},
   "outputs": [
    {
     "data": {
      "text/plain": [
       "'mankind'"
      ]
     },
     "execution_count": 8,
     "metadata": {},
     "output_type": "execute_result"
    }
   ],
   "source": [
    "zhangsan.family"
   ]
  },
  {
   "cell_type": "code",
   "execution_count": 9,
   "id": "26cc606f",
   "metadata": {},
   "outputs": [],
   "source": [
    "Human.family = \"homo\""
   ]
  },
  {
   "cell_type": "code",
   "execution_count": 10,
   "id": "46276e41",
   "metadata": {},
   "outputs": [
    {
     "data": {
      "text/plain": [
       "'mankind'"
      ]
     },
     "execution_count": 10,
     "metadata": {},
     "output_type": "execute_result"
    }
   ],
   "source": [
    "zhangsan.family"
   ]
  },
  {
   "cell_type": "markdown",
   "id": "5fccde3a",
   "metadata": {},
   "source": [
    "# 3. 方法 #"
   ]
  },
  {
   "cell_type": "markdown",
   "id": "ff6fb690",
   "metadata": {},
   "source": [
    "## 在所声名的类中使用def进行函数定义，就可以为该类添加方法；方法和属性都是类的成员；添加方法有以下三种： ##"
   ]
  },
  {
   "cell_type": "markdown",
   "id": "d885fa5f",
   "metadata": {},
   "source": [
    "### 实例方法 ###\n",
    "### 类方法 ###\n",
    "### 静态方法 ###"
   ]
  },
  {
   "cell_type": "markdown",
   "id": "72c76bbc",
   "metadata": {},
   "source": [
    "## 3.1 实例方法 ##"
   ]
  },
  {
   "cell_type": "markdown",
   "id": "eec5c0ac",
   "metadata": {},
   "source": [
    "### 实例方法是类中最为常用的方法，往往被简称为方法。实例方法第一个参数必须是 \"self\" , 表示类实例本身，且只能通过类实例进行调用。 ###"
   ]
  },
  {
   "cell_type": "code",
   "execution_count": 14,
   "id": "0f4c5d47",
   "metadata": {},
   "outputs": [],
   "source": [
    "class Human(object):\n",
    "    \"\"\"\n",
    "    新式类默认继承父类 object\n",
    "    \"\"\"\n",
    "    phylum = \"chordata\"\n",
    "    order = \"primates\"\n",
    "    family = \"human being\"\n",
    "    def typewriter(self):  #这是内部参数，无法调用，不是实参\n",
    "        print(\"this is %s typing words\" %self.family)\n",
    "    def add(self,n1,n2):\n",
    "        n = n1+n2\n",
    "        print(str(n1)+ \"+\" +str(n2)+ \"=\" +str(n))\n",
    "        print(\"you see %s can calculate\" %self.family)\n",
    "\n",
    "zhangsan=Human()"
   ]
  },
  {
   "cell_type": "code",
   "execution_count": 15,
   "id": "0e49f53c",
   "metadata": {},
   "outputs": [
    {
     "data": {
      "text/plain": [
       "['__class__',\n",
       " '__delattr__',\n",
       " '__dict__',\n",
       " '__dir__',\n",
       " '__doc__',\n",
       " '__eq__',\n",
       " '__format__',\n",
       " '__ge__',\n",
       " '__getattribute__',\n",
       " '__gt__',\n",
       " '__hash__',\n",
       " '__init__',\n",
       " '__init_subclass__',\n",
       " '__le__',\n",
       " '__lt__',\n",
       " '__module__',\n",
       " '__ne__',\n",
       " '__new__',\n",
       " '__reduce__',\n",
       " '__reduce_ex__',\n",
       " '__repr__',\n",
       " '__setattr__',\n",
       " '__sizeof__',\n",
       " '__str__',\n",
       " '__subclasshook__',\n",
       " '__weakref__',\n",
       " 'add',\n",
       " 'family',\n",
       " 'order',\n",
       " 'phylum',\n",
       " 'typewriter']"
      ]
     },
     "execution_count": 15,
     "metadata": {},
     "output_type": "execute_result"
    }
   ],
   "source": [
    "dir(zhangsan)        #除了有三个属性，而且还有 typewriter 和 add 两个方法"
   ]
  },
  {
   "cell_type": "code",
   "execution_count": 13,
   "id": "6d67d320",
   "metadata": {},
   "outputs": [
    {
     "name": "stdout",
     "output_type": "stream",
     "text": [
      "this is human being typing words\n"
     ]
    }
   ],
   "source": [
    "zhangsan.typewriter()"
   ]
  },
  {
   "cell_type": "code",
   "execution_count": 17,
   "id": "1ae4efcf",
   "metadata": {},
   "outputs": [
    {
     "name": "stdout",
     "output_type": "stream",
     "text": [
      "1+2=3\n",
      "you see human being can calculate\n"
     ]
    }
   ],
   "source": [
    "zhangsan.add(1,2)"
   ]
  },
  {
   "cell_type": "markdown",
   "id": "c39bec48",
   "metadata": {},
   "source": [
    "### 当创建类的实例时，python会检查是否定义了一个名为\" __  init  __ \"的函数，如已定义则会自动调用并运行它。 ###"
   ]
  },
  {
   "cell_type": "code",
   "execution_count": 19,
   "id": "c9cb0442",
   "metadata": {},
   "outputs": [],
   "source": [
    "class Human(object):\n",
    "    domain =\"eukarya\"   #设定domain的属性值为真核生物域\n",
    "    def __init__(self,kingdom=\"animalia\",phylum = \"chordata\", order = \"primates\", family = \"human being\"): #定义了一个构造器，当创建一个实例的时候自动执行\n",
    "        self.kingdom = kingdom\n",
    "        self.phylum = phylum\n",
    "        self.order = order\n",
    "        self.family = family\n",
    "    def typewriter(self):  #这是内部参数，无法调用，不是实参\n",
    "        print(\"this is %s typing words\" %self.family)\n",
    "    def add(self,n1,n2):\n",
    "        n = n1+n2\n",
    "        print(str(n1)+ \"+\" +str(n2)+ \"=\" +str(n))\n",
    "        print(\"you see %s can calculate\" %self.family)\n",
    "\n",
    "zhangsan = Human()"
   ]
  },
  {
   "cell_type": "code",
   "execution_count": 20,
   "id": "3a86786f",
   "metadata": {},
   "outputs": [
    {
     "data": {
      "text/plain": [
       "'animalia'"
      ]
     },
     "execution_count": 20,
     "metadata": {},
     "output_type": "execute_result"
    }
   ],
   "source": [
    "zhangsan.kingdom"
   ]
  },
  {
   "cell_type": "code",
   "execution_count": 23,
   "id": "34cb6b30",
   "metadata": {},
   "outputs": [
    {
     "data": {
      "text/plain": [
       "'animal'"
      ]
     },
     "execution_count": 23,
     "metadata": {},
     "output_type": "execute_result"
    }
   ],
   "source": [
    "lisi = Human(kingdom = \"animal\")\n",
    "lisi.kingdom"
   ]
  },
  {
   "cell_type": "code",
   "execution_count": 24,
   "id": "6a9f8851",
   "metadata": {},
   "outputs": [
    {
     "data": {
      "text/plain": [
       "'animalia'"
      ]
     },
     "execution_count": 24,
     "metadata": {},
     "output_type": "execute_result"
    }
   ],
   "source": [
    "zhangsan.kingdom"
   ]
  },
  {
   "cell_type": "markdown",
   "id": "59cd1934",
   "metadata": {},
   "source": [
    "## 3.2 类方法 ##"
   ]
  },
  {
   "cell_type": "markdown",
   "id": "ba18c100",
   "metadata": {},
   "source": [
    "### 类方法第一个参数是\"cls\",表示类本身。定义类方法使用@classmethod装饰器 ###"
   ]
  },
  {
   "cell_type": "code",
   "execution_count": 27,
   "id": "c130d346",
   "metadata": {},
   "outputs": [],
   "source": [
    "class Human(object):\n",
    "    domain =\"eukarya\"   #设定domain的属性值为真核生物域\n",
    "    def __init__(self,kingdom=\"animalia\",phylum = \"chordata\", order = \"primates\", family = \"human being\"): #定义了一个构造器，当创建一个实例的时候自动执行\n",
    "        self.kingdom = kingdom\n",
    "        self.phylum = phylum\n",
    "        self.order = order\n",
    "        self.family = family\n",
    "    def typewriter(self):  #这是内部参数，无法调用，不是实参\n",
    "        print(\"this is %s typing words\" %self.family)\n",
    "    def add(self,n1,n2):\n",
    "        n = n1+n2\n",
    "        print(str(n1)+ \"+\" +str(n2)+ \"=\" +str(n))\n",
    "        print(\"you see %s can calculate\" %self.family)\n",
    "    @classmethod\n",
    "    def showclassmethodinfo (cls):\n",
    "        print(cls.__name__)  #__name__属性，其值为类名\n",
    "        print(dir(cls)) # 使用dir列示本类的所有方法\n",
    "\n",
    "zhangsan = Human()"
   ]
  },
  {
   "cell_type": "code",
   "execution_count": 33,
   "id": "fb1e8c02",
   "metadata": {},
   "outputs": [
    {
     "name": "stdout",
     "output_type": "stream",
     "text": [
      "Human\n",
      "['__class__', '__delattr__', '__dict__', '__dir__', '__doc__', '__eq__', '__format__', '__ge__', '__getattribute__', '__gt__', '__hash__', '__init__', '__init_subclass__', '__le__', '__lt__', '__module__', '__ne__', '__new__', '__reduce__', '__reduce_ex__', '__repr__', '__setattr__', '__sizeof__', '__str__', '__subclasshook__', '__weakref__', 'add', 'domain', 'showclassmethodinfo', 'typewriter']\n"
     ]
    }
   ],
   "source": [
    "zhangsan.showclassmethodinfo()"
   ]
  },
  {
   "cell_type": "markdown",
   "id": "c6636edc",
   "metadata": {},
   "source": [
    "## 3.3 静态方法 ##"
   ]
  },
  {
   "cell_type": "markdown",
   "id": "39a5eed0",
   "metadata": {},
   "source": [
    "### 该方法即不需要实例参数，也不需要类参数。需要@staticmethod 装饰器。 ###"
   ]
  },
  {
   "cell_type": "code",
   "execution_count": 35,
   "id": "f386b36a",
   "metadata": {},
   "outputs": [],
   "source": [
    "class Human(object):\n",
    "    domain =\"eukarya\"   #设定domain的属性值为真核生物域\n",
    "    def __init__(self,kingdom=\"animalia\",phylum = \"chordata\", order = \"primates\", family = \"human being\"): #定义了一个构造器，当创建一个实例的时候自动执行\n",
    "        self.kingdom = kingdom\n",
    "        self.phylum = phylum\n",
    "        self.order = order\n",
    "        self.family = family\n",
    "    def typewriter(self):  #这是内部参数，无法调用，不是实参\n",
    "        print(\"this is %s typing words\" %self.family)\n",
    "    def add(self,n1,n2):\n",
    "        n = n1+n2\n",
    "        print(str(n1)+ \"+\" +str(n2)+ \"=\" +str(n))\n",
    "        print(\"you see %s can calculate\" %self.family)\n",
    "    @classmethod\n",
    "    def showclassmethodinfo (cls):\n",
    "        print(cls.__name__)  #__name__属性，其值为类名\n",
    "        print(dir(cls)) # 使用dir列示本类的所有方法\n",
    "    @staticmethod\n",
    "    def showclassattributeinfo():\n",
    "        print(Human.__dict__)  #返回一个键名是属性名，键值是属性值的字典\n",
    "\n",
    "zhangsan = Human()"
   ]
  },
  {
   "cell_type": "code",
   "execution_count": 36,
   "id": "3828ef0d",
   "metadata": {},
   "outputs": [
    {
     "name": "stdout",
     "output_type": "stream",
     "text": [
      "{'__module__': '__main__', 'domain': 'eukarya', '__init__': <function Human.__init__ at 0x0000015D81E45B40>, 'typewriter': <function Human.typewriter at 0x0000015D81E45A20>, 'add': <function Human.add at 0x0000015D81E45D80>, 'showclassmethodinfo': <classmethod(<function Human.showclassmethodinfo at 0x0000015D81E44700>)>, 'showclassattributeinfo': <staticmethod(<function Human.showclassattributeinfo at 0x0000015D81E46200>)>, '__dict__': <attribute '__dict__' of 'Human' objects>, '__weakref__': <attribute '__weakref__' of 'Human' objects>, '__doc__': None}\n"
     ]
    }
   ],
   "source": [
    "zhangsan.showclassattributeinfo()"
   ]
  },
  {
   "cell_type": "markdown",
   "id": "3618bea7",
   "metadata": {},
   "source": [
    "# 4. 属性（attribute） #"
   ]
  },
  {
   "cell_type": "markdown",
   "id": "32540560",
   "metadata": {},
   "source": [
    "### 属性：可以分为实例属性和类属性；也可以分为公有属性和私有属性。属性都可以进行添加，其值都可以进行修改 ###"
   ]
  },
  {
   "cell_type": "markdown",
   "id": "c54c2048",
   "metadata": {},
   "source": [
    "### 私有属性 ：在声名类的过程中定义属性时，带有“__”前缀的属性；私有属性只能在类的内部进行调用，无法在类的外部直接访问 ###"
   ]
  },
  {
   "cell_type": "markdown",
   "id": "9b075c14",
   "metadata": {},
   "source": [
    "# 5.继承 #"
   ]
  },
  {
   "cell_type": "markdown",
   "id": "a7d03439",
   "metadata": {},
   "source": [
    "### 在继承机制中，将已有的或已经声名过的类称为\"父类\"、\"基类\"或者\"超类\"（super）,在父类的基础上创建的新类称之为\"子类\" ###\n",
    "### 子类可继承父类的全部公有成员，但是不能继承其私有成员 ###"
   ]
  },
  {
   "cell_type": "markdown",
   "id": "fccdba07",
   "metadata": {},
   "source": [
    "## 5.1 隐式继承 ##\n",
    "### 子类从它的父类中完全继承了所有成员，用户无需任何多余操作，就可以使子类具备父类的功能 ###"
   ]
  },
  {
   "cell_type": "code",
   "execution_count": 2,
   "id": "4bbbfc80",
   "metadata": {},
   "outputs": [],
   "source": [
    "class Human(object):\n",
    "    \"\"\"\n",
    "    新式类默认继承父类 object\n",
    "    \"\"\"\n",
    "    phylum = \"chordata\"\n",
    "    order = \"primates\"\n",
    "    family = \"human being\"\n",
    "    def typewriter(self):  #这是内部参数，无法调用，不是实参\n",
    "        print(\"this is %s typing words\" %self.family)\n",
    "    def add(self,n1,n2):\n",
    "        n = n1+n2\n",
    "        print(str(n1)+ \"+\" +str(n2)+ \"=\" +str(n))\n",
    "        print(\"you see %s can calculate\" %self.family)\n",
    "\n",
    "class Male(Human):\n",
    "    pass"
   ]
  },
  {
   "cell_type": "code",
   "execution_count": 3,
   "id": "62b4dd01",
   "metadata": {},
   "outputs": [
    {
     "data": {
      "text/plain": [
       "'human being'"
      ]
     },
     "execution_count": 3,
     "metadata": {},
     "output_type": "execute_result"
    }
   ],
   "source": [
    "someoneismale = Male()\n",
    "someoneismale.family"
   ]
  },
  {
   "cell_type": "markdown",
   "id": "d1844668",
   "metadata": {},
   "source": [
    "## 5.2 显式覆盖 ##"
   ]
  },
  {
   "cell_type": "markdown",
   "id": "97721503",
   "metadata": {},
   "source": [
    "## 5.3 多态：人和人之间的区别 ##"
   ]
  },
  {
   "cell_type": "markdown",
   "id": "d6545dc8",
   "metadata": {},
   "source": [
    "## 5.4 多重继承 ##\n",
    "### 子类不仅可以从一个父类继承，也可以从多个父类继承 ###"
   ]
  },
  {
   "cell_type": "code",
   "execution_count": null,
   "id": "8a4602f3",
   "metadata": {},
   "outputs": [],
   "source": []
  }
 ],
 "metadata": {
  "kernelspec": {
   "display_name": "Python 3 (ipykernel)",
   "language": "python",
   "name": "python3"
  },
  "language_info": {
   "codemirror_mode": {
    "name": "ipython",
    "version": 3
   },
   "file_extension": ".py",
   "mimetype": "text/x-python",
   "name": "python",
   "nbconvert_exporter": "python",
   "pygments_lexer": "ipython3",
   "version": "3.10.2"
  }
 },
 "nbformat": 4,
 "nbformat_minor": 5
}
