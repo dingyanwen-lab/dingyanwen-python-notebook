{
 "cells": [
  {
   "cell_type": "markdown",
   "id": "fb526bae",
   "metadata": {},
   "source": [
    "# 特性 #"
   ]
  },
  {
   "cell_type": "markdown",
   "id": "c7250c42",
   "metadata": {},
   "source": [
    "### 指在对一个特定属性操作时，执行特定的函数，以实现对属性的控制。即，特性在调用属性的时候会自动调用相应的方法，也就是增加了一些额外的处理过程，如属性值的类型检查、验证属性值设置是否合法 ###"
   ]
  },
  {
   "cell_type": "code",
   "execution_count": 1,
   "id": "18f3f08d",
   "metadata": {},
   "outputs": [],
   "source": [
    "class Human(object):\n",
    "    domain =\"eukarya\"   #设定domain的属性值为真核生物域\n",
    "    def __init__(self,kingdom=\"animalia\",phylum = \"chordata\", order = \"primates\", family = \"human being\"): #定义了一个构造器，当创建一个实例的时候自动执行\n",
    "        self.kingdom = kingdom\n",
    "        self.phylum = phylum\n",
    "        self.order = order\n",
    "        self.family = family\n",
    "    def typewriter(self):  #这是内部参数，无法调用，不是实参\n",
    "        print(\"this is %s typing words\" %self.family)\n",
    "    def add(self,n1,n2):\n",
    "        n = n1+n2\n",
    "        print(str(n1)+ \"+\" +str(n2)+ \"=\" +str(n))\n",
    "        print(\"you see %s can calculate\" %self.family)\n",
    "\n",
    "class Female(Human):\n",
    "    def __init__(self,gender=\"female\",age=18):\n",
    "        super(Female,self).__init__()\n",
    "        self.gender=gender\n",
    "        self.age=age"
   ]
  },
  {
   "cell_type": "code",
   "execution_count": 2,
   "id": "c6aae0bf",
   "metadata": {},
   "outputs": [
    {
     "data": {
      "text/plain": [
       "18"
      ]
     },
     "execution_count": 2,
     "metadata": {},
     "output_type": "execute_result"
    }
   ],
   "source": [
    "misszhang = Female()\n",
    "misszhang.age"
   ]
  },
  {
   "cell_type": "code",
   "execution_count": 3,
   "id": "b1000d6c",
   "metadata": {},
   "outputs": [],
   "source": [
    "misszhang.age = 321"
   ]
  },
  {
   "cell_type": "code",
   "execution_count": 4,
   "id": "ec1b9c71",
   "metadata": {},
   "outputs": [
    {
     "data": {
      "text/plain": [
       "321"
      ]
     },
     "execution_count": 4,
     "metadata": {},
     "output_type": "execute_result"
    }
   ],
   "source": [
    "misszhang.age"
   ]
  },
  {
   "cell_type": "code",
   "execution_count": 10,
   "id": "b39ba10e",
   "metadata": {},
   "outputs": [],
   "source": [
    "class Female(Human):\n",
    "    def __init__(self,gender=\"female\"):\n",
    "        super(Female,self).__init__()\n",
    "        self.gender=gender\n",
    "    def get_age(self):  #获得实例对象指定属性值，getter方法\n",
    "        return self.age\n",
    "    def set_age(self,age_value): #实例对象的属性进行设置，setter()方法\n",
    "        if not isinstance(age_value,int):\n",
    "            raise ValueError(\"age must be an integer\")\n",
    "        if age_value < 0 :\n",
    "            raise ValueError(\"age must be equal or greater than 0\")\n",
    "        if age_value > 150:\n",
    "            raise ValueError(\"age must be less than 150\")\n",
    "        self.age = age_value\n",
    "\n",
    "#该类有两个属性gender和age，以及get_age和set_age两个方法。"
   ]
  },
  {
   "cell_type": "code",
   "execution_count": 11,
   "id": "1a30bef1",
   "metadata": {},
   "outputs": [],
   "source": [
    "misszhang = Female()"
   ]
  },
  {
   "cell_type": "code",
   "execution_count": 8,
   "id": "6a444b5a",
   "metadata": {},
   "outputs": [],
   "source": [
    "misszhang.age = 199"
   ]
  },
  {
   "cell_type": "code",
   "execution_count": 9,
   "id": "2325c4ca",
   "metadata": {},
   "outputs": [
    {
     "data": {
      "text/plain": [
       "199"
      ]
     },
     "execution_count": 9,
     "metadata": {},
     "output_type": "execute_result"
    }
   ],
   "source": [
    "misszhang.age"
   ]
  },
  {
   "cell_type": "code",
   "execution_count": 12,
   "id": "2dfae4af",
   "metadata": {},
   "outputs": [
    {
     "data": {
      "text/plain": [
       "'female'"
      ]
     },
     "execution_count": 12,
     "metadata": {},
     "output_type": "execute_result"
    }
   ],
   "source": [
    "misszhang.gender"
   ]
  },
  {
   "cell_type": "code",
   "execution_count": 13,
   "id": "65b7f1e2",
   "metadata": {},
   "outputs": [
    {
     "ename": "ValueError",
     "evalue": "age must be less than 150",
     "output_type": "error",
     "traceback": [
      "\u001b[1;31m---------------------------------------------------------------------------\u001b[0m",
      "\u001b[1;31mValueError\u001b[0m                                Traceback (most recent call last)",
      "Input \u001b[1;32mIn [13]\u001b[0m, in \u001b[0;36m<cell line: 1>\u001b[1;34m()\u001b[0m\n\u001b[1;32m----> 1\u001b[0m \u001b[43mmisszhang\u001b[49m\u001b[38;5;241;43m.\u001b[39;49m\u001b[43mset_age\u001b[49m\u001b[43m(\u001b[49m\u001b[38;5;241;43m170\u001b[39;49m\u001b[43m)\u001b[49m\n",
      "Input \u001b[1;32mIn [10]\u001b[0m, in \u001b[0;36mFemale.set_age\u001b[1;34m(self, age_value)\u001b[0m\n\u001b[0;32m     11\u001b[0m     \u001b[38;5;28;01mraise\u001b[39;00m \u001b[38;5;167;01mValueError\u001b[39;00m(\u001b[38;5;124m\"\u001b[39m\u001b[38;5;124mage must be equal or greater than 0\u001b[39m\u001b[38;5;124m\"\u001b[39m)\n\u001b[0;32m     12\u001b[0m \u001b[38;5;28;01mif\u001b[39;00m age_value \u001b[38;5;241m>\u001b[39m \u001b[38;5;241m150\u001b[39m:\n\u001b[1;32m---> 13\u001b[0m     \u001b[38;5;28;01mraise\u001b[39;00m \u001b[38;5;167;01mValueError\u001b[39;00m(\u001b[38;5;124m\"\u001b[39m\u001b[38;5;124mage must be less than 150\u001b[39m\u001b[38;5;124m\"\u001b[39m)\n\u001b[0;32m     14\u001b[0m \u001b[38;5;28mself\u001b[39m\u001b[38;5;241m.\u001b[39mage \u001b[38;5;241m=\u001b[39m age_value\n",
      "\u001b[1;31mValueError\u001b[0m: age must be less than 150"
     ]
    }
   ],
   "source": [
    "misszhang.set_age(170)"
   ]
  },
  {
   "cell_type": "code",
   "execution_count": 14,
   "id": "0ef9f5ff",
   "metadata": {},
   "outputs": [],
   "source": [
    "misszhang.set_age(24)"
   ]
  },
  {
   "cell_type": "code",
   "execution_count": 16,
   "id": "351184a3",
   "metadata": {},
   "outputs": [
    {
     "data": {
      "text/plain": [
       "24"
      ]
     },
     "execution_count": 16,
     "metadata": {},
     "output_type": "execute_result"
    }
   ],
   "source": [
    "misszhang.get_age()"
   ]
  },
  {
   "cell_type": "markdown",
   "id": "ba14f5fd",
   "metadata": {},
   "source": [
    "###  @property就是把一个方法变成属性调用的装饰器。 @property装饰器一般用来装饰getter方法。 @property本身又会创建另一个以@被修饰方法。setter命名的装饰器来装饰setter方法，将setter方法变成属性设置 ###"
   ]
  },
  {
   "cell_type": "code",
   "execution_count": 25,
   "id": "c487a37e",
   "metadata": {},
   "outputs": [],
   "source": [
    "class Female(Human):\n",
    "    def __init__(self,gender=\"female\"):\n",
    "        super(Female,self).__init__()\n",
    "        self.gender=gender\n",
    "    \n",
    "    @property\n",
    "    def age(self):  #获得实例对象指定属性值，getter方法\n",
    "        return self._age #加下划线主要是和函数名字区分\n",
    "    \n",
    "    @age.setter\n",
    "    def age(self,age_value): #实例对象的属性进行设置，setter()方法\n",
    "        if not isinstance(age_value,int):\n",
    "            raise ValueError(\"age must be an integer\")\n",
    "        if age_value < 0 :\n",
    "            raise ValueError(\"age must be equal or greater than 0\")\n",
    "        if age_value > 150:\n",
    "            raise ValueError(\"age must be less than 150\")\n",
    "        self._age = age_value"
   ]
  },
  {
   "cell_type": "code",
   "execution_count": 26,
   "id": "c34e912e",
   "metadata": {},
   "outputs": [],
   "source": [
    "missli = Female()"
   ]
  },
  {
   "cell_type": "code",
   "execution_count": 27,
   "id": "a3039a82",
   "metadata": {},
   "outputs": [
    {
     "ename": "ValueError",
     "evalue": "age must be less than 150",
     "output_type": "error",
     "traceback": [
      "\u001b[1;31m---------------------------------------------------------------------------\u001b[0m",
      "\u001b[1;31mValueError\u001b[0m                                Traceback (most recent call last)",
      "Input \u001b[1;32mIn [27]\u001b[0m, in \u001b[0;36m<cell line: 1>\u001b[1;34m()\u001b[0m\n\u001b[1;32m----> 1\u001b[0m missli\u001b[38;5;241m.\u001b[39mage \u001b[38;5;241m=\u001b[39m \u001b[38;5;241m160\u001b[39m\n",
      "Input \u001b[1;32mIn [25]\u001b[0m, in \u001b[0;36mFemale.age\u001b[1;34m(self, age_value)\u001b[0m\n\u001b[0;32m     15\u001b[0m     \u001b[38;5;28;01mraise\u001b[39;00m \u001b[38;5;167;01mValueError\u001b[39;00m(\u001b[38;5;124m\"\u001b[39m\u001b[38;5;124mage must be equal or greater than 0\u001b[39m\u001b[38;5;124m\"\u001b[39m)\n\u001b[0;32m     16\u001b[0m \u001b[38;5;28;01mif\u001b[39;00m age_value \u001b[38;5;241m>\u001b[39m \u001b[38;5;241m150\u001b[39m:\n\u001b[1;32m---> 17\u001b[0m     \u001b[38;5;28;01mraise\u001b[39;00m \u001b[38;5;167;01mValueError\u001b[39;00m(\u001b[38;5;124m\"\u001b[39m\u001b[38;5;124mage must be less than 150\u001b[39m\u001b[38;5;124m\"\u001b[39m)\n\u001b[0;32m     18\u001b[0m \u001b[38;5;28mself\u001b[39m\u001b[38;5;241m.\u001b[39m_age \u001b[38;5;241m=\u001b[39m age_value\n",
      "\u001b[1;31mValueError\u001b[0m: age must be less than 150"
     ]
    }
   ],
   "source": [
    "missli.age = 160"
   ]
  },
  {
   "cell_type": "code",
   "execution_count": 30,
   "id": "67810356",
   "metadata": {},
   "outputs": [],
   "source": [
    "missli.age = 24"
   ]
  },
  {
   "cell_type": "code",
   "execution_count": 31,
   "id": "e2987b07",
   "metadata": {},
   "outputs": [
    {
     "data": {
      "text/plain": [
       "24"
      ]
     },
     "execution_count": 31,
     "metadata": {},
     "output_type": "execute_result"
    }
   ],
   "source": [
    "missli.age"
   ]
  },
  {
   "cell_type": "markdown",
   "id": "de66fe67",
   "metadata": {},
   "source": [
    "### 如果只使用@property装饰getter方法，不装饰setter方法，该方法会实现一个只读属性，不能更改 ###"
   ]
  },
  {
   "cell_type": "code",
   "execution_count": 33,
   "id": "1fb773d7",
   "metadata": {},
   "outputs": [],
   "source": [
    "class Female(Human):\n",
    "    def __init__(self,gender=\"female\",bloodtype=\"\"):\n",
    "        super(Female,self).__init__()\n",
    "        self.gender=gender\n",
    "        self._bloodtype = bloodtype\n",
    "    \n",
    "    @property\n",
    "    def age(self):  #获得实例对象指定属性值，getter方法\n",
    "        return self._age #加下划线主要是和函数名字区分\n",
    "    \n",
    "    @age.setter\n",
    "    def age(self,age_value): #实例对象的属性进行设置，setter()方法\n",
    "        if not isinstance(age_value,int):\n",
    "            raise ValueError(\"age must be an integer\")\n",
    "        if age_value < 0 :\n",
    "            raise ValueError(\"age must be equal or greater than 0\")\n",
    "        if age_value > 150:\n",
    "            raise ValueError(\"age must be less than 150\")\n",
    "        self._age = age_value\n",
    "\n",
    "    @property\n",
    "    def bloodtype(self):\n",
    "        return self._bloodtype"
   ]
  },
  {
   "cell_type": "code",
   "execution_count": 36,
   "id": "6a6c2b4b",
   "metadata": {},
   "outputs": [],
   "source": [
    "missding = Female(bloodtype=\"ab\")"
   ]
  },
  {
   "cell_type": "code",
   "execution_count": 35,
   "id": "d783ac54",
   "metadata": {},
   "outputs": [
    {
     "ename": "ValueError",
     "evalue": "age must be less than 150",
     "output_type": "error",
     "traceback": [
      "\u001b[1;31m---------------------------------------------------------------------------\u001b[0m",
      "\u001b[1;31mValueError\u001b[0m                                Traceback (most recent call last)",
      "Input \u001b[1;32mIn [35]\u001b[0m, in \u001b[0;36m<cell line: 1>\u001b[1;34m()\u001b[0m\n\u001b[1;32m----> 1\u001b[0m missding\u001b[38;5;241m.\u001b[39mage\u001b[38;5;241m=\u001b[39m\u001b[38;5;241m678\u001b[39m\n",
      "Input \u001b[1;32mIn [33]\u001b[0m, in \u001b[0;36mFemale.age\u001b[1;34m(self, age_value)\u001b[0m\n\u001b[0;32m     16\u001b[0m     \u001b[38;5;28;01mraise\u001b[39;00m \u001b[38;5;167;01mValueError\u001b[39;00m(\u001b[38;5;124m\"\u001b[39m\u001b[38;5;124mage must be equal or greater than 0\u001b[39m\u001b[38;5;124m\"\u001b[39m)\n\u001b[0;32m     17\u001b[0m \u001b[38;5;28;01mif\u001b[39;00m age_value \u001b[38;5;241m>\u001b[39m \u001b[38;5;241m150\u001b[39m:\n\u001b[1;32m---> 18\u001b[0m     \u001b[38;5;28;01mraise\u001b[39;00m \u001b[38;5;167;01mValueError\u001b[39;00m(\u001b[38;5;124m\"\u001b[39m\u001b[38;5;124mage must be less than 150\u001b[39m\u001b[38;5;124m\"\u001b[39m)\n\u001b[0;32m     19\u001b[0m \u001b[38;5;28mself\u001b[39m\u001b[38;5;241m.\u001b[39m_age \u001b[38;5;241m=\u001b[39m age_value\n",
      "\u001b[1;31mValueError\u001b[0m: age must be less than 150"
     ]
    }
   ],
   "source": [
    "missding.age=678"
   ]
  },
  {
   "cell_type": "code",
   "execution_count": 37,
   "id": "f439c744",
   "metadata": {},
   "outputs": [
    {
     "data": {
      "text/plain": [
       "'ab'"
      ]
     },
     "execution_count": 37,
     "metadata": {},
     "output_type": "execute_result"
    }
   ],
   "source": [
    "missding.bloodtype"
   ]
  },
  {
   "cell_type": "code",
   "execution_count": 38,
   "id": "af360d5c",
   "metadata": {},
   "outputs": [
    {
     "ename": "AttributeError",
     "evalue": "can't set attribute 'bloodtype'",
     "output_type": "error",
     "traceback": [
      "\u001b[1;31m---------------------------------------------------------------------------\u001b[0m",
      "\u001b[1;31mAttributeError\u001b[0m                            Traceback (most recent call last)",
      "Input \u001b[1;32mIn [38]\u001b[0m, in \u001b[0;36m<cell line: 1>\u001b[1;34m()\u001b[0m\n\u001b[1;32m----> 1\u001b[0m missding\u001b[38;5;241m.\u001b[39mbloodtype \u001b[38;5;241m=\u001b[39m \u001b[38;5;124m'\u001b[39m\u001b[38;5;124ma\u001b[39m\u001b[38;5;124m'\u001b[39m\n",
      "\u001b[1;31mAttributeError\u001b[0m: can't set attribute 'bloodtype'"
     ]
    }
   ],
   "source": [
    "missding.bloodtype = 'a'  #只读属性"
   ]
  },
  {
   "cell_type": "markdown",
   "id": "d2cdb248",
   "metadata": {},
   "source": [
    "# 1. 异常捕获与容错处理 #"
   ]
  },
  {
   "cell_type": "markdown",
   "id": "793eb980",
   "metadata": {},
   "source": [
    "### 与其让程序运行到最后崩溃，不如在出现错误条件的时候就崩溃 ###"
   ]
  },
  {
   "cell_type": "code",
   "execution_count": 39,
   "id": "7bc0fb26",
   "metadata": {},
   "outputs": [
    {
     "ename": "AssertionError",
     "evalue": "2不等于1",
     "output_type": "error",
     "traceback": [
      "\u001b[1;31m---------------------------------------------------------------------------\u001b[0m",
      "\u001b[1;31mAssertionError\u001b[0m                            Traceback (most recent call last)",
      "Input \u001b[1;32mIn [39]\u001b[0m, in \u001b[0;36m<cell line: 1>\u001b[1;34m()\u001b[0m\n\u001b[1;32m----> 1\u001b[0m \u001b[38;5;28;01massert\u001b[39;00m \u001b[38;5;241m2\u001b[39m\u001b[38;5;241m==\u001b[39m\u001b[38;5;241m1\u001b[39m, \u001b[38;5;124m\"\u001b[39m\u001b[38;5;124m2不等于1\u001b[39m\u001b[38;5;124m\"\u001b[39m\n",
      "\u001b[1;31mAssertionError\u001b[0m: 2不等于1"
     ]
    }
   ],
   "source": [
    "assert 2==1, \"2不等于1\""
   ]
  },
  {
   "cell_type": "markdown",
   "id": "f2f7d450",
   "metadata": {},
   "source": [
    "## 1.1 捕获异常 ##\n",
    "### try...except...else ###"
   ]
  },
  {
   "cell_type": "markdown",
   "id": "7337359a",
   "metadata": {},
   "source": [
    "# 模块 #"
   ]
  },
  {
   "cell_type": "markdown",
   "id": "2f189bc9",
   "metadata": {},
   "source": [
    "### 一个*.py文件就称为一个模块，就是保存了python代码的文件 ###\n",
    "### 在编写程序的时候，可以引用python内置的模块和来自第三方的模块 ###\n",
    "### 相同名字的函数和变量完全可以分别存在不同的模块，注意：尽量不要与内置函数名字冲突 ###"
   ]
  },
  {
   "cell_type": "code",
   "execution_count": 41,
   "id": "bed43949",
   "metadata": {},
   "outputs": [
    {
     "data": {
      "text/plain": [
       "999"
      ]
     },
     "execution_count": 41,
     "metadata": {},
     "output_type": "execute_result"
    }
   ],
   "source": [
    "#import：导入模块\n",
    "# from...import...:从模块中导入指定部分\n",
    "import math\n",
    "math.floor(999.99999)"
   ]
  },
  {
   "cell_type": "code",
   "execution_count": 42,
   "id": "7a8cb1bd",
   "metadata": {},
   "outputs": [
    {
     "data": {
      "text/plain": [
       "10.0"
      ]
     },
     "execution_count": 42,
     "metadata": {},
     "output_type": "execute_result"
    }
   ],
   "source": [
    "from math import sqrt\n",
    "sqrt(100)"
   ]
  },
  {
   "cell_type": "markdown",
   "id": "8baf09c9",
   "metadata": {},
   "source": [
    "### import...as xx 重命名\n",
    "### from ...import * 全部导入\n",
    "### dir()函数：返回在一个模块里定义的所有模块、变量和函数的列表\n",
    "### globals()lacals()返回全局和局部命名空间里的名字，不带参数的时候，返回类型都是字典，可以用keys（）方法获取名字\n",
    "### reload（）函数：当一个模块导入到一个脚本，模块顶层部分的代码只会被执行一次。如果要重新执行模块顶层部分的代码，可以用reload（）函数来重新导入之前导入过的模块 ###"
   ]
  },
  {
   "cell_type": "code",
   "execution_count": 2,
   "id": "72b3523d",
   "metadata": {},
   "outputs": [],
   "source": [
    "import time\n",
    "dir(time)"
   ]
  },
  {
   "cell_type": "code",
   "execution_count": null,
   "id": "f08daaec",
   "metadata": {},
   "outputs": [],
   "source": [
    "global().keys()"
   ]
  },
  {
   "cell_type": "code",
   "execution_count": null,
   "id": "aae1a19b",
   "metadata": {},
   "outputs": [],
   "source": [
    "reload(time)"
   ]
  },
  {
   "cell_type": "markdown",
   "id": "8d41942b",
   "metadata": {},
   "source": [
    "# 包 #\n",
    "### 区别于模块 ###"
   ]
  },
  {
   "cell_type": "code",
   "execution_count": null,
   "id": "9f18689e",
   "metadata": {},
   "outputs": [],
   "source": []
  }
 ],
 "metadata": {
  "kernelspec": {
   "display_name": "Python 3 (ipykernel)",
   "language": "python",
   "name": "python3"
  },
  "language_info": {
   "codemirror_mode": {
    "name": "ipython",
    "version": 3
   },
   "file_extension": ".py",
   "mimetype": "text/x-python",
   "name": "python",
   "nbconvert_exporter": "python",
   "pygments_lexer": "ipython3",
   "version": "3.10.2"
  }
 },
 "nbformat": 4,
 "nbformat_minor": 5
}
