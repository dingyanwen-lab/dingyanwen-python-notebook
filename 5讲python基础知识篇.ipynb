{
 "cells": [
  {
   "cell_type": "code",
   "execution_count": null,
   "id": "130b8597",
   "metadata": {},
   "outputs": [],
   "source": []
  },
  {
   "cell_type": "code",
   "execution_count": null,
   "id": "9c4ccb6e",
   "metadata": {},
   "outputs": [],
   "source": [
    "# help()查看函数或模块用途的详细说明\n",
    "# dir()查看函数或模块内的操作方法或成员都有什么，输出的是成员列表\n",
    "#？ 查看具体对象的帮助信息"
   ]
  },
  {
   "cell_type": "code",
   "execution_count": null,
   "id": "983abeff",
   "metadata": {},
   "outputs": [],
   "source": [
    "a=\"hello word!\"   #python中一切皆对象"
   ]
  },
  {
   "cell_type": "code",
   "execution_count": null,
   "id": "bb874064",
   "metadata": {},
   "outputs": [],
   "source": [
    "a"
   ]
  },
  {
   "cell_type": "code",
   "execution_count": null,
   "id": "e7c2141a",
   "metadata": {},
   "outputs": [],
   "source": [
    "help(a)"
   ]
  },
  {
   "cell_type": "code",
   "execution_count": null,
   "id": "e3db585b",
   "metadata": {},
   "outputs": [],
   "source": [
    "help(str)"
   ]
  },
  {
   "cell_type": "code",
   "execution_count": null,
   "id": "364eae45",
   "metadata": {},
   "outputs": [],
   "source": [
    "dir(a)"
   ]
  },
  {
   "cell_type": "code",
   "execution_count": null,
   "id": "a519dda5",
   "metadata": {},
   "outputs": [],
   "source": [
    "a.capitalize?"
   ]
  },
  {
   "cell_type": "code",
   "execution_count": null,
   "id": "3c499761",
   "metadata": {},
   "outputs": [],
   "source": [
    "a.capitalize()\n",
    "#调用这个对象，（）里应加参数，但在这里没有参数"
   ]
  },
  {
   "cell_type": "code",
   "execution_count": null,
   "id": "da1c88c4",
   "metadata": {},
   "outputs": [],
   "source": [
    "#python标识符由汉字、字母、数字、下划线组成，但不能以数字开头\n",
    "#区分大小写"
   ]
  },
  {
   "cell_type": "code",
   "execution_count": null,
   "id": "a520fbbe",
   "metadata": {},
   "outputs": [],
   "source": [
    "print(1+2**3*4/5-100)"
   ]
  },
  {
   "cell_type": "code",
   "execution_count": null,
   "id": "eb1153bf",
   "metadata": {},
   "outputs": [],
   "source": [
    "print(1+2>2 and 4>10+9)"
   ]
  },
  {
   "cell_type": "code",
   "execution_count": null,
   "id": "3debc0c1",
   "metadata": {},
   "outputs": [],
   "source": [
    "a=[1,2,3]#python中基本的数据类型，用方括号和逗号连接\n",
    "print(10*(3 in a))"
   ]
  },
  {
   "cell_type": "code",
   "execution_count": null,
   "id": "35918bfc",
   "metadata": {},
   "outputs": [],
   "source": [
    "del a #删除某一个对象"
   ]
  },
  {
   "cell_type": "code",
   "execution_count": 8,
   "id": "4c8ebbb1",
   "metadata": {},
   "outputs": [
    {
     "data": {
      "text/plain": [
       "[1, 2, 3, 4]"
      ]
     },
     "execution_count": 8,
     "metadata": {},
     "output_type": "execute_result"
    }
   ],
   "source": [
    "a=[1,2,3]\n",
    "a\n",
    "b=a   #python中是赋值，不是复制\n",
    "b\n",
    "a.append(4)\n",
    "a\n",
    "b"
   ]
  },
  {
   "cell_type": "code",
   "execution_count": null,
   "id": "7018d4ee",
   "metadata": {},
   "outputs": [],
   "source": [
    "#查看是不是统计一个对象  可以查看id号"
   ]
  },
  {
   "cell_type": "code",
   "execution_count": null,
   "id": "5d6258e0",
   "metadata": {},
   "outputs": [],
   "source": [
    "id(a)"
   ]
  },
  {
   "cell_type": "code",
   "execution_count": null,
   "id": "4aa36e95",
   "metadata": {},
   "outputs": [],
   "source": [
    "id(b)"
   ]
  },
  {
   "cell_type": "code",
   "execution_count": null,
   "id": "c9127a87",
   "metadata": {},
   "outputs": [],
   "source": [
    "a is b"
   ]
  },
  {
   "cell_type": "markdown",
   "id": "5cb374bf",
   "metadata": {},
   "source": [
    "# 1.深复制-浅复制问题 #"
   ]
  },
  {
   "cell_type": "markdown",
   "id": "17d26039",
   "metadata": {},
   "source": [
    "## 1.1浅复制：它们是不同的对象，对对象的改变不会影响彼此 ##"
   ]
  },
  {
   "cell_type": "code",
   "execution_count": 9,
   "id": "014ffb1b",
   "metadata": {},
   "outputs": [
    {
     "data": {
      "text/plain": [
       "(False, False)"
      ]
     },
     "execution_count": 9,
     "metadata": {},
     "output_type": "execute_result"
    }
   ],
   "source": [
    "import copy\n",
    "a=[1,2,[\"chr1\",\"chr2\"]]\n",
    "c=copy.copy(a)#浅复制方式1\n",
    "d=a[:]#a中所有的元素都赋值给d；浅复制方式2 即[:]\n",
    "a is c, a is d"
   ]
  },
  {
   "cell_type": "code",
   "execution_count": 10,
   "id": "d9b714fa",
   "metadata": {},
   "outputs": [
    {
     "data": {
      "text/plain": [
       "[1, 2, ['chr1', 'chr2'], 3]"
      ]
     },
     "execution_count": 10,
     "metadata": {},
     "output_type": "execute_result"
    }
   ],
   "source": [
    "a.append(3)\n",
    "a"
   ]
  },
  {
   "cell_type": "code",
   "execution_count": 3,
   "id": "dffd7aea",
   "metadata": {},
   "outputs": [
    {
     "data": {
      "text/plain": [
       "[1, 2, ['chr1', 'chr2']]"
      ]
     },
     "execution_count": 3,
     "metadata": {},
     "output_type": "execute_result"
    }
   ],
   "source": [
    "c"
   ]
  },
  {
   "cell_type": "code",
   "execution_count": 4,
   "id": "473a542f",
   "metadata": {},
   "outputs": [
    {
     "data": {
      "text/plain": [
       "[1, 2, ['chr1', 'chr2']]"
      ]
     },
     "execution_count": 4,
     "metadata": {},
     "output_type": "execute_result"
    }
   ],
   "source": [
    "d"
   ]
  },
  {
   "cell_type": "code",
   "execution_count": 5,
   "id": "426e0299",
   "metadata": {},
   "outputs": [
    {
     "data": {
      "text/plain": [
       "[1, 2, ['chr1', 'chr2', 'chr3'], 3]"
      ]
     },
     "execution_count": 5,
     "metadata": {},
     "output_type": "execute_result"
    }
   ],
   "source": [
    "a[2].append(\"chr3\")  #对a的子对象进行了改变\n",
    "a"
   ]
  },
  {
   "cell_type": "code",
   "execution_count": 6,
   "id": "d18b65af",
   "metadata": {},
   "outputs": [
    {
     "data": {
      "text/plain": [
       "[1, 2, ['chr1', 'chr2', 'chr3']]"
      ]
     },
     "execution_count": 6,
     "metadata": {},
     "output_type": "execute_result"
    }
   ],
   "source": [
    "c #子对象发生了变化，但是父对象没有发生变化"
   ]
  },
  {
   "cell_type": "code",
   "execution_count": 7,
   "id": "ce51b3a2",
   "metadata": {},
   "outputs": [
    {
     "data": {
      "text/plain": [
       "[1, 2, ['chr1', 'chr2', 'chr3']]"
      ]
     },
     "execution_count": 7,
     "metadata": {},
     "output_type": "execute_result"
    }
   ],
   "source": [
    "d"
   ]
  },
  {
   "cell_type": "markdown",
   "id": "998c8d19",
   "metadata": {},
   "source": [
    "## 1.2深复制 拷贝父对象和其子对象 ##"
   ]
  },
  {
   "cell_type": "code",
   "execution_count": 11,
   "id": "81ee214d",
   "metadata": {},
   "outputs": [
    {
     "data": {
      "text/plain": [
       "False"
      ]
     },
     "execution_count": 11,
     "metadata": {},
     "output_type": "execute_result"
    }
   ],
   "source": [
    "a=[1,2,[\"chr1\",\"chr2\"]]\n",
    "c=copy.deepcopy(a)\n",
    "a is c"
   ]
  },
  {
   "cell_type": "code",
   "execution_count": 12,
   "id": "ddcfe527",
   "metadata": {},
   "outputs": [
    {
     "data": {
      "text/plain": [
       "[1, 2, ['chr1', 'chr2', 'chr3']]"
      ]
     },
     "execution_count": 12,
     "metadata": {},
     "output_type": "execute_result"
    }
   ],
   "source": [
    "a[2].append(\"chr3\")\n",
    "a"
   ]
  },
  {
   "cell_type": "code",
   "execution_count": 13,
   "id": "4dae1378",
   "metadata": {},
   "outputs": [
    {
     "data": {
      "text/plain": [
       "[1, 2, ['chr1', 'chr2']]"
      ]
     },
     "execution_count": 13,
     "metadata": {},
     "output_type": "execute_result"
    }
   ],
   "source": [
    "c  #还是原来的列表，子对象改变了，它也不改变"
   ]
  },
  {
   "cell_type": "code",
   "execution_count": 14,
   "id": "1c4fbd36",
   "metadata": {},
   "outputs": [
    {
     "data": {
      "text/plain": [
       "[1, 2, ['chr1', 'chr2']]"
      ]
     },
     "execution_count": 14,
     "metadata": {},
     "output_type": "execute_result"
    }
   ],
   "source": [
    "d"
   ]
  },
  {
   "cell_type": "markdown",
   "id": "31571a97",
   "metadata": {},
   "source": [
    "# 2.字符串需要注意的点 #"
   ]
  },
  {
   "cell_type": "code",
   "execution_count": 22,
   "id": "a2f58877",
   "metadata": {},
   "outputs": [
    {
     "data": {
      "text/plain": [
       "'c\\\\yidingnengxuehui'"
      ]
     },
     "execution_count": 22,
     "metadata": {},
     "output_type": "execute_result"
    }
   ],
   "source": [
    "path='c\\\\yidingnengxuehui'\n",
    "path"
   ]
  },
  {
   "cell_type": "code",
   "execution_count": 18,
   "id": "024eb8c1",
   "metadata": {},
   "outputs": [
    {
     "name": "stdout",
     "output_type": "stream",
     "text": [
      "c:\\yidingnengxuehui\n"
     ]
    }
   ],
   "source": [
    "print(path)"
   ]
  },
  {
   "cell_type": "code",
   "execution_count": 24,
   "id": "bd0fc404",
   "metadata": {},
   "outputs": [
    {
     "data": {
      "text/plain": [
       "'hello, word'"
      ]
     },
     "execution_count": 24,
     "metadata": {},
     "output_type": "execute_result"
    }
   ],
   "source": [
    "\"hello, %s\" % \"word\""
   ]
  },
  {
   "cell_type": "code",
   "execution_count": 25,
   "id": "362ddd9d",
   "metadata": {},
   "outputs": [
    {
     "data": {
      "text/plain": [
       "'hello, clam'"
      ]
     },
     "execution_count": 25,
     "metadata": {},
     "output_type": "execute_result"
    }
   ],
   "source": [
    "\"hello, %s\" % \"clam\""
   ]
  },
  {
   "cell_type": "code",
   "execution_count": null,
   "id": "1b67636b",
   "metadata": {},
   "outputs": [],
   "source": []
  }
 ],
 "metadata": {
  "kernelspec": {
   "display_name": "Python 3 (ipykernel)",
   "language": "python",
   "name": "python3"
  },
  "language_info": {
   "codemirror_mode": {
    "name": "ipython",
    "version": 3
   },
   "file_extension": ".py",
   "mimetype": "text/x-python",
   "name": "python",
   "nbconvert_exporter": "python",
   "pygments_lexer": "ipython3",
   "version": "3.10.2"
  }
 },
 "nbformat": 4,
 "nbformat_minor": 5
}
