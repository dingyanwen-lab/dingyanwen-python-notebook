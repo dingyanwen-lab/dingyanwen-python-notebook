{
 "cells": [
  {
   "cell_type": "markdown",
   "id": "900bcd05",
   "metadata": {},
   "source": [
    "# 1.日期和时间 #"
   ]
  },
  {
   "cell_type": "code",
   "execution_count": 1,
   "id": "5e5b6ffd",
   "metadata": {},
   "outputs": [],
   "source": [
    "from datetime import datetime"
   ]
  },
  {
   "cell_type": "code",
   "execution_count": 5,
   "id": "f1cfe257",
   "metadata": {},
   "outputs": [
    {
     "data": {
      "text/plain": [
       "'    January 2020\\nMo Tu We Th Fr Sa Su\\n       1  2  3  4  5\\n 6  7  8  9 10 11 12\\n13 14 15 16 17 18 19\\n20 21 22 23 24 25 26\\n27 28 29 30 31\\n'"
      ]
     },
     "execution_count": 5,
     "metadata": {},
     "output_type": "execute_result"
    }
   ],
   "source": [
    "import calendar\n",
    "c=calendar.month(2020,1)\n",
    "c"
   ]
  },
  {
   "cell_type": "code",
   "execution_count": 6,
   "id": "35885dd1",
   "metadata": {},
   "outputs": [
    {
     "name": "stdout",
     "output_type": "stream",
     "text": [
      "    January 2020\n",
      "Mo Tu We Th Fr Sa Su\n",
      "       1  2  3  4  5\n",
      " 6  7  8  9 10 11 12\n",
      "13 14 15 16 17 18 19\n",
      "20 21 22 23 24 25 26\n",
      "27 28 29 30 31\n",
      "\n"
     ]
    }
   ],
   "source": [
    "print(c)"
   ]
  },
  {
   "cell_type": "markdown",
   "id": "9022fe02",
   "metadata": {},
   "source": [
    "# 2.魔术命令 #"
   ]
  },
  {
   "cell_type": "code",
   "execution_count": 7,
   "id": "bcf68f7a",
   "metadata": {},
   "outputs": [
    {
     "data": {
      "text/plain": [
       "'C:\\\\Users\\\\WEN'"
      ]
     },
     "execution_count": 7,
     "metadata": {},
     "output_type": "execute_result"
    }
   ],
   "source": [
    "%pwd"
   ]
  },
  {
   "cell_type": "code",
   "execution_count": 8,
   "id": "d1b095b4",
   "metadata": {},
   "outputs": [],
   "source": [
    "%magic"
   ]
  },
  {
   "cell_type": "code",
   "execution_count": 9,
   "id": "091958ef",
   "metadata": {},
   "outputs": [],
   "source": [
    "#%time 一次执行一行语句，然后报告总体执行时间"
   ]
  },
  {
   "cell_type": "code",
   "execution_count": 1,
   "id": "d0796093",
   "metadata": {
    "scrolled": true
   },
   "outputs": [
    {
     "name": "stdout",
     "output_type": "stream",
     "text": [
      "CPU times: total: 0 ns\n",
      "Wall time: 0 ns\n"
     ]
    },
    {
     "data": {
      "text/plain": [
       "100000000000000000000"
      ]
     },
     "execution_count": 1,
     "metadata": {},
     "output_type": "execute_result"
    }
   ],
   "source": [
    "%time pow(100,10)  #测试100的100000次方的执行时间"
   ]
  },
  {
   "cell_type": "code",
   "execution_count": 14,
   "id": "ed69c4d1",
   "metadata": {},
   "outputs": [
    {
     "name": "stdout",
     "output_type": "stream",
     "text": [
      "13.3 ms ± 31.2 µs per loop (mean ± std. dev. of 7 runs, 100 loops each)\n"
     ]
    }
   ],
   "source": [
    "%timeit pow(100,100000)  #测试100的100000次方的平均执行时间 it是迭代的意思，有时候循环100次有时候循环1000次，这取决于CPU"
   ]
  },
  {
   "cell_type": "code",
   "execution_count": 15,
   "id": "025e724b",
   "metadata": {},
   "outputs": [],
   "source": [
    "#如果代码不止一行，可以使用%%time %%timeit"
   ]
  },
  {
   "cell_type": "code",
   "execution_count": 4,
   "id": "05d4b00b",
   "metadata": {},
   "outputs": [
    {
     "name": "stdout",
     "output_type": "stream",
     "text": [
      "79.6 ms ± 413 µs per loop (mean ± std. dev. of 7 runs, 10 loops each)\n"
     ]
    }
   ],
   "source": [
    "%%timeit        #必须放在第一行\n",
    "#测试对列表[10，20，30，40，50，60，70，80，90]中各元素的100000次方的平均执行时间\n",
    "test=[]  #声名一个列表\n",
    "for x in range(10,100,10):\n",
    "    t=pow(x,100000)\n",
    "    test.append(t)"
   ]
  },
  {
   "cell_type": "markdown",
   "id": "aa1528a9",
   "metadata": {},
   "source": [
    "# 3.数据结构 #"
   ]
  },
  {
   "cell_type": "markdown",
   "id": "ff6f91d8",
   "metadata": {},
   "source": [
    "## 3.1序列（集合数据类型） ##"
   ]
  },
  {
   "cell_type": "markdown",
   "id": "aebda522",
   "metadata": {},
   "source": [
    "### 列表（list）一维序列，变长、其内容可以进行修改，用“[]”标识 ###"
   ]
  },
  {
   "cell_type": "markdown",
   "id": "55f0efdb",
   "metadata": {},
   "source": [
    "### 元组（tuple）一维序列，定长、不可修改，其内容可以进行修改，用“（）”标识 ###"
   ]
  },
  {
   "cell_type": "markdown",
   "id": "caf17bdc",
   "metadata": {},
   "source": [
    "### 字典（dict）：哈希映射（hash map，散列图）或相联数组（associative array）,最重要的内置结构之一，大小可变的**键值对**其中键（key）值（value）都是python对象。用“{}”标识 ###"
   ]
  },
  {
   "cell_type": "markdown",
   "id": "cac8b151",
   "metadata": {},
   "source": [
    "### 集合（set）：由唯一元素组成的无序集，可看成是只有键没有值的字典 ###"
   ]
  },
  {
   "cell_type": "markdown",
   "id": "1a6d89f2",
   "metadata": {},
   "source": [
    "## 3.1.1列表 ##"
   ]
  },
  {
   "cell_type": "code",
   "execution_count": 8,
   "id": "3115d914",
   "metadata": {},
   "outputs": [
    {
     "data": {
      "text/plain": [
       "['ding', 'yan', 'wen', 'zhang']"
      ]
     },
     "execution_count": 8,
     "metadata": {},
     "output_type": "execute_result"
    }
   ],
   "source": [
    "name=[\"ding\",\"yan\",\"wen\",\"zhang\"]\n",
    "name"
   ]
  },
  {
   "cell_type": "code",
   "execution_count": 9,
   "id": "270ce748",
   "metadata": {},
   "outputs": [
    {
     "data": {
      "text/plain": [
       "4"
      ]
     },
     "execution_count": 9,
     "metadata": {},
     "output_type": "execute_result"
    }
   ],
   "source": [
    "len(name)"
   ]
  },
  {
   "cell_type": "markdown",
   "id": "2c4b18dd",
   "metadata": {},
   "source": [
    "### 用索引来访问list,索引从0开始，索引的最后一个位置不包括在内 ###"
   ]
  },
  {
   "cell_type": "code",
   "execution_count": 10,
   "id": "c49e69a1",
   "metadata": {},
   "outputs": [
    {
     "data": {
      "text/plain": [
       "'yan'"
      ]
     },
     "execution_count": 10,
     "metadata": {},
     "output_type": "execute_result"
    }
   ],
   "source": [
    "name[1]"
   ]
  },
  {
   "cell_type": "code",
   "execution_count": 11,
   "id": "af15676b",
   "metadata": {},
   "outputs": [
    {
     "data": {
      "text/plain": [
       "'zhang'"
      ]
     },
     "execution_count": 11,
     "metadata": {},
     "output_type": "execute_result"
    }
   ],
   "source": [
    "name[-1]#倒数第一个"
   ]
  },
  {
   "cell_type": "code",
   "execution_count": 12,
   "id": "a7b7351a",
   "metadata": {},
   "outputs": [
    {
     "data": {
      "text/plain": [
       "['ding', 'yan', 'wen', 'zhang']"
      ]
     },
     "execution_count": 12,
     "metadata": {},
     "output_type": "execute_result"
    }
   ],
   "source": [
    "name[:]  #冒号前面是起始索引；冒号后面是终止索引；这叫做分片"
   ]
  },
  {
   "cell_type": "code",
   "execution_count": 13,
   "id": "978d296f",
   "metadata": {},
   "outputs": [
    {
     "data": {
      "text/plain": [
       "['ding', 'yan']"
      ]
     },
     "execution_count": 13,
     "metadata": {},
     "output_type": "execute_result"
    }
   ],
   "source": [
    "name[:2]"
   ]
  },
  {
   "cell_type": "code",
   "execution_count": 14,
   "id": "5488f1dd",
   "metadata": {},
   "outputs": [
    {
     "data": {
      "text/plain": [
       "['ding']"
      ]
     },
     "execution_count": 14,
     "metadata": {},
     "output_type": "execute_result"
    }
   ],
   "source": [
    "name[0:1] "
   ]
  },
  {
   "cell_type": "markdown",
   "id": "d82d9e43",
   "metadata": {},
   "source": [
    "### 分片：通过“：”隔开的两个索引来实现。如果提供两个索引作为边界，则第一个索引包含在分片内，而第2个则不包含在分片内： ###"
   ]
  },
  {
   "cell_type": "code",
   "execution_count": 2,
   "id": "e0bfbaf3",
   "metadata": {},
   "outputs": [
    {
     "data": {
      "text/plain": [
       "[1, 2, 3, 4, 5, 6, 7, 8, 9, 10]"
      ]
     },
     "execution_count": 2,
     "metadata": {},
     "output_type": "execute_result"
    }
   ],
   "source": [
    "n=[1,2,3,4,5,6,7,8,9,10]\n",
    "n"
   ]
  },
  {
   "cell_type": "code",
   "execution_count": 17,
   "id": "71b664c5",
   "metadata": {},
   "outputs": [
    {
     "data": {
      "text/plain": [
       "[1, 2, 3, 4, 5, 6, 7, 8, 9, 10]"
      ]
     },
     "execution_count": 17,
     "metadata": {},
     "output_type": "execute_result"
    }
   ],
   "source": [
    "n[0:10:1] #0到10，步长是1"
   ]
  },
  {
   "cell_type": "code",
   "execution_count": 18,
   "id": "a1a54d7c",
   "metadata": {},
   "outputs": [
    {
     "data": {
      "text/plain": [
       "[1, 3, 5, 7, 9]"
      ]
     },
     "execution_count": 18,
     "metadata": {},
     "output_type": "execute_result"
    }
   ],
   "source": [
    "n[0:10:2]"
   ]
  },
  {
   "cell_type": "code",
   "execution_count": 19,
   "id": "c23699b0",
   "metadata": {},
   "outputs": [
    {
     "data": {
      "text/plain": [
       "[1, 6]"
      ]
     },
     "execution_count": 19,
     "metadata": {},
     "output_type": "execute_result"
    }
   ],
   "source": [
    "n[::5]"
   ]
  },
  {
   "cell_type": "code",
   "execution_count": 3,
   "id": "03b76886",
   "metadata": {},
   "outputs": [
    {
     "data": {
      "text/plain": [
       "[10, 9, 8, 7, 6, 5, 4, 3, 2, 1]"
      ]
     },
     "execution_count": 3,
     "metadata": {},
     "output_type": "execute_result"
    }
   ],
   "source": [
    "n[::-1] #把位置反过来，和数值大小无关"
   ]
  },
  {
   "cell_type": "markdown",
   "id": "f511637d",
   "metadata": {},
   "source": [
    "### 序列相加 ###"
   ]
  },
  {
   "cell_type": "code",
   "execution_count": 1,
   "id": "c2b37cfa",
   "metadata": {},
   "outputs": [
    {
     "data": {
      "text/plain": [
       "[1, 2, 3, 4, 5, 6]"
      ]
     },
     "execution_count": 1,
     "metadata": {},
     "output_type": "execute_result"
    }
   ],
   "source": [
    "n1=[1,2,3];n2=[4,5,6]\n",
    "n1+n2"
   ]
  },
  {
   "cell_type": "code",
   "execution_count": 2,
   "id": "d4aa0442",
   "metadata": {},
   "outputs": [
    {
     "data": {
      "text/plain": [
       "'helloworld'"
      ]
     },
     "execution_count": 2,
     "metadata": {},
     "output_type": "execute_result"
    }
   ],
   "source": [
    "\"hello\"+\"world\""
   ]
  },
  {
   "cell_type": "code",
   "execution_count": 3,
   "id": "8730c8f0",
   "metadata": {},
   "outputs": [
    {
     "data": {
      "text/plain": [
       "'hello[1, 2, 3]'"
      ]
     },
     "execution_count": 3,
     "metadata": {},
     "output_type": "execute_result"
    }
   ],
   "source": [
    "\"hello\"+repr(n1) #repr数值转字符串"
   ]
  },
  {
   "cell_type": "markdown",
   "id": "1a995b3c",
   "metadata": {},
   "source": [
    "### 乘法：用数字乘上一个序列会生成新的序列，被乘的序列会重复指定的次数 ###"
   ]
  },
  {
   "cell_type": "code",
   "execution_count": 4,
   "id": "faab7bd8",
   "metadata": {},
   "outputs": [
    {
     "data": {
      "text/plain": [
       "'hellofaaaaaaaaaa'"
      ]
     },
     "execution_count": 4,
     "metadata": {},
     "output_type": "execute_result"
    }
   ],
   "source": [
    "\"hello\"+\"f\"+\"a\"*10"
   ]
  },
  {
   "cell_type": "code",
   "execution_count": 5,
   "id": "2aba3eb5",
   "metadata": {},
   "outputs": [
    {
     "data": {
      "text/plain": [
       "[1, 2, 3, 1, 2, 3, 1, 2, 3]"
      ]
     },
     "execution_count": 5,
     "metadata": {},
     "output_type": "execute_result"
    }
   ],
   "source": [
    "a=[1,2,3]\n",
    "a*3"
   ]
  },
  {
   "cell_type": "code",
   "execution_count": 8,
   "id": "278402e8",
   "metadata": {},
   "outputs": [
    {
     "data": {
      "text/plain": [
       "[3, 6, 9]"
      ]
     },
     "execution_count": 8,
     "metadata": {},
     "output_type": "execute_result"
    }
   ],
   "source": [
    "b=[]\n",
    "for x in a:\n",
    "    b.append(x*3)\n",
    "b"
   ]
  },
  {
   "cell_type": "markdown",
   "id": "049c3e3d",
   "metadata": {},
   "source": [
    "### enumerate 遍历序列中的元素以及它们的索引位置 ###"
   ]
  },
  {
   "cell_type": "code",
   "execution_count": 9,
   "id": "0d63a203",
   "metadata": {},
   "outputs": [
    {
     "name": "stdout",
     "output_type": "stream",
     "text": [
      "0 ding\n",
      "1 yan\n",
      "2 wen\n",
      "3 yi\n",
      "4 ding\n",
      "5 xing\n"
     ]
    }
   ],
   "source": [
    "for i,j in enumerate([\"ding\",\"yan\",\"wen\",\"yi\",\"ding\",\"xing\"]):\n",
    "    print(i,j)"
   ]
  },
  {
   "cell_type": "markdown",
   "id": "c19eea05",
   "metadata": {},
   "source": [
    "### sorted 将任何序列返回为一个新的有序列表 ###"
   ]
  },
  {
   "cell_type": "code",
   "execution_count": 10,
   "id": "d31327de",
   "metadata": {},
   "outputs": [
    {
     "data": {
      "text/plain": [
       "[1, 2, 4, 5, 7]"
      ]
     },
     "execution_count": 10,
     "metadata": {},
     "output_type": "execute_result"
    }
   ],
   "source": [
    "sorted([1,5,4,2,7])"
   ]
  },
  {
   "cell_type": "code",
   "execution_count": 13,
   "id": "63c0f344",
   "metadata": {},
   "outputs": [
    {
     "data": {
      "text/plain": [
       "[7, 5, 4, 2, 1]"
      ]
     },
     "execution_count": 13,
     "metadata": {},
     "output_type": "execute_result"
    }
   ],
   "source": [
    "sorted([1,5,4,2,7],reverse=True)"
   ]
  },
  {
   "cell_type": "markdown",
   "id": "13896798",
   "metadata": {},
   "source": [
    "### zip 将多个序列中的元素“配对”，从而产生一个新的元组列表，按照最短序列决定 ###"
   ]
  },
  {
   "cell_type": "code",
   "execution_count": 14,
   "id": "6ace47d3",
   "metadata": {},
   "outputs": [
    {
     "data": {
      "text/plain": [
       "[('ding', 'shan'), ('yan', 'dong'), ('wen', 'da'), ('yi', 'xue')]"
      ]
     },
     "execution_count": 14,
     "metadata": {},
     "output_type": "execute_result"
    }
   ],
   "source": [
    "aa=[\"ding\",\"yan\",\"wen\",\"yi\",\"ding\",\"xing\"]\n",
    "bb=[\"shan\",\"dong\",\"da\",\"xue\"]\n",
    "list(zip(aa,bb))\n",
    "#在结果中可以看到（）中是元组；[]列表"
   ]
  },
  {
   "cell_type": "markdown",
   "id": "489df9d6",
   "metadata": {},
   "source": [
    "### reversed 按照逆序迭代序列中的元素；并不是所谓的倒序 ###"
   ]
  },
  {
   "cell_type": "code",
   "execution_count": 15,
   "id": "3765d63d",
   "metadata": {},
   "outputs": [
    {
     "data": {
      "text/plain": [
       "['xing', 'ding', 'yi', 'wen', 'yan', 'ding']"
      ]
     },
     "execution_count": 15,
     "metadata": {},
     "output_type": "execute_result"
    }
   ],
   "source": [
    "list(reversed(aa))"
   ]
  },
  {
   "cell_type": "code",
   "execution_count": 16,
   "id": "5424309b",
   "metadata": {},
   "outputs": [
    {
     "data": {
      "text/plain": [
       "['xing', 'ding', 'yi', 'wen', 'yan', 'ding']"
      ]
     },
     "execution_count": 16,
     "metadata": {},
     "output_type": "execute_result"
    }
   ],
   "source": [
    "aa[::-1]"
   ]
  },
  {
   "cell_type": "markdown",
   "id": "eedd1071",
   "metadata": {},
   "source": [
    "![list方法](C:/Users/WEN/Desktop/jupyter_picture/list_method.png)"
   ]
  },
  {
   "cell_type": "code",
   "execution_count": null,
   "id": "786c4978",
   "metadata": {},
   "outputs": [],
   "source": []
  }
 ],
 "metadata": {
  "celltoolbar": "无",
  "kernelspec": {
   "display_name": "Python 3 (ipykernel)",
   "language": "python",
   "name": "python3"
  },
  "language_info": {
   "codemirror_mode": {
    "name": "ipython",
    "version": 3
   },
   "file_extension": ".py",
   "mimetype": "text/x-python",
   "name": "python",
   "nbconvert_exporter": "python",
   "pygments_lexer": "ipython3",
   "version": "3.10.2"
  }
 },
 "nbformat": 4,
 "nbformat_minor": 5
}
