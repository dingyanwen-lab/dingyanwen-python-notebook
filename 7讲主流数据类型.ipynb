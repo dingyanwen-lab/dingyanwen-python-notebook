{
 "cells": [
  {
   "cell_type": "markdown",
   "id": "6ae6fb23",
   "metadata": {},
   "source": [
    "### 3.1.2元组（tuple）一维序列，定长、不可修改，其内容可以进行修改，用“（）”标识 ###"
   ]
  },
  {
   "cell_type": "code",
   "execution_count": 1,
   "id": "cbf39a3d",
   "metadata": {},
   "outputs": [
    {
     "data": {
      "text/plain": [
       "(1, 2, 3)"
      ]
     },
     "execution_count": 1,
     "metadata": {},
     "output_type": "execute_result"
    }
   ],
   "source": [
    "(1,2,3)"
   ]
  },
  {
   "cell_type": "code",
   "execution_count": 2,
   "id": "12a23841",
   "metadata": {},
   "outputs": [
    {
     "data": {
      "text/plain": [
       "(1, 2)"
      ]
     },
     "execution_count": 2,
     "metadata": {},
     "output_type": "execute_result"
    }
   ],
   "source": [
    "1,2  #python默认是元组"
   ]
  },
  {
   "cell_type": "code",
   "execution_count": 5,
   "id": "dbb03c84",
   "metadata": {},
   "outputs": [
    {
     "data": {
      "text/plain": [
       "32"
      ]
     },
     "execution_count": 5,
     "metadata": {},
     "output_type": "execute_result"
    }
   ],
   "source": [
    "b=8*(4)\n",
    "b"
   ]
  },
  {
   "cell_type": "code",
   "execution_count": 4,
   "id": "4476b508",
   "metadata": {},
   "outputs": [
    {
     "data": {
      "text/plain": [
       "(10, 10, 10, 10, 10, 10, 10, 10)"
      ]
     },
     "execution_count": 4,
     "metadata": {},
     "output_type": "execute_result"
    }
   ],
   "source": [
    "a=8*(10,)\n",
    "a"
   ]
  },
  {
   "cell_type": "code",
   "execution_count": 6,
   "id": "bf2f4f4f",
   "metadata": {},
   "outputs": [
    {
     "data": {
      "text/plain": [
       "10"
      ]
     },
     "execution_count": 6,
     "metadata": {},
     "output_type": "execute_result"
    }
   ],
   "source": [
    "a[1]"
   ]
  },
  {
   "cell_type": "code",
   "execution_count": 7,
   "id": "c9512819",
   "metadata": {},
   "outputs": [
    {
     "data": {
      "text/plain": [
       "(10, 10, 10)"
      ]
     },
     "execution_count": 7,
     "metadata": {},
     "output_type": "execute_result"
    }
   ],
   "source": [
    "a[:-1:3]"
   ]
  },
  {
   "cell_type": "code",
   "execution_count": 9,
   "id": "c6156cc1",
   "metadata": {},
   "outputs": [
    {
     "data": {
      "text/plain": [
       "(1, 2, [3, 4])"
      ]
     },
     "execution_count": 9,
     "metadata": {},
     "output_type": "execute_result"
    }
   ],
   "source": [
    "t=(1,2,[3,4])\n",
    "t"
   ]
  },
  {
   "cell_type": "code",
   "execution_count": 10,
   "id": "790aaf82",
   "metadata": {},
   "outputs": [
    {
     "ename": "TypeError",
     "evalue": "'tuple' object does not support item assignment",
     "output_type": "error",
     "traceback": [
      "\u001b[1;31m---------------------------------------------------------------------------\u001b[0m",
      "\u001b[1;31mTypeError\u001b[0m                                 Traceback (most recent call last)",
      "Input \u001b[1;32mIn [10]\u001b[0m, in \u001b[0;36m<cell line: 1>\u001b[1;34m()\u001b[0m\n\u001b[1;32m----> 1\u001b[0m t[\u001b[38;5;241m1\u001b[39m]\u001b[38;5;241m=\u001b[39m\u001b[38;5;241m5\u001b[39m\n",
      "\u001b[1;31mTypeError\u001b[0m: 'tuple' object does not support item assignment"
     ]
    }
   ],
   "source": [
    "t[1]=5 #元组是不可变的"
   ]
  },
  {
   "cell_type": "code",
   "execution_count": 11,
   "id": "52f99fbd",
   "metadata": {},
   "outputs": [
    {
     "data": {
      "text/plain": [
       "(1, 2, [3, 4, 5])"
      ]
     },
     "execution_count": 11,
     "metadata": {},
     "output_type": "execute_result"
    }
   ],
   "source": [
    "t[2].append(5)  #元组的子对象可变\n",
    "t"
   ]
  },
  {
   "cell_type": "markdown",
   "id": "20f915e0",
   "metadata": {},
   "source": [
    "### 元组拆包（unpacking）对元组型变量表达式进行赋值，python尝试用“=”右侧的值进行拆包（所有序列都可以进行如下拆包） ###"
   ]
  },
  {
   "cell_type": "code",
   "execution_count": 1,
   "id": "72c02045",
   "metadata": {},
   "outputs": [
    {
     "data": {
      "text/plain": [
       "'yan'"
      ]
     },
     "execution_count": 1,
     "metadata": {},
     "output_type": "execute_result"
    }
   ],
   "source": [
    "name=(\"ding\",\"yan\",\"wen\",\"zhang\")\n",
    "a1,a2,a3,a4=name\n",
    "a2"
   ]
  },
  {
   "cell_type": "markdown",
   "id": "72c78a0f",
   "metadata": {},
   "source": [
    "### 3.1.3 字典（dict）：哈希映射（hash map，散列图）或相联数组（associative array）,最重要的内置结构之一，大小可变的**键值对**其中键（key）值（value）都是python对象。用“{}”标识 ###"
   ]
  },
  {
   "cell_type": "markdown",
   "id": "9de2d367",
   "metadata": {},
   "source": [
    "### 注意：字典中的键是唯一的，但是值不一定是唯一的 ###"
   ]
  },
  {
   "cell_type": "code",
   "execution_count": 19,
   "id": "f123508e",
   "metadata": {},
   "outputs": [
    {
     "data": {
      "text/plain": [
       "97"
      ]
     },
     "execution_count": 19,
     "metadata": {},
     "output_type": "execute_result"
    }
   ],
   "source": [
    "name1={\"ding\":95,\"yan\":97,\"wen\":98} #\"ding\":95可以称为一个项目或者entry\n",
    "name1[\"yan\"]"
   ]
  },
  {
   "cell_type": "markdown",
   "id": "7d05ab1f",
   "metadata": {},
   "source": [
    "### 可以用dict()将序列变成字典 ###\n",
    "### 字符串可以当键，数字可以当键，元组可以当键，这些都是不可变的 ###\n",
    "### 不允许同一个键出现两次，创建时如果同一个键被赋值两次，后一个值会被记住 ###"
   ]
  },
  {
   "cell_type": "code",
   "execution_count": 10,
   "id": "17a7fbe3",
   "metadata": {},
   "outputs": [
    {
     "data": {
      "text/plain": [
       "{'ding': 95, 'yan': 97, 'wen': 98}"
      ]
     },
     "execution_count": 10,
     "metadata": {},
     "output_type": "execute_result"
    }
   ],
   "source": [
    "name=[(\"ding\",95),(\"yan\",97),(\"wen\",98)]\n",
    "dict(name)"
   ]
  },
  {
   "cell_type": "code",
   "execution_count": 11,
   "id": "117c79d0",
   "metadata": {},
   "outputs": [
    {
     "data": {
      "text/plain": [
       "3"
      ]
     },
     "execution_count": 11,
     "metadata": {},
     "output_type": "execute_result"
    }
   ],
   "source": [
    "len(name) #返回name中键值对的数量"
   ]
  },
  {
   "cell_type": "code",
   "execution_count": 20,
   "id": "7bb23b14",
   "metadata": {},
   "outputs": [
    {
     "data": {
      "text/plain": [
       "{'ding': 95, 'yan': 97, 'wen': 98, 'li': 40}"
      ]
     },
     "execution_count": 20,
     "metadata": {},
     "output_type": "execute_result"
    }
   ],
   "source": [
    "name1[\"li\"]=40 #添加一个键值对\n",
    "name1"
   ]
  },
  {
   "cell_type": "code",
   "execution_count": 21,
   "id": "e4bb5b99",
   "metadata": {},
   "outputs": [
    {
     "data": {
      "text/plain": [
       "{'ding': 95, 'yan': 97, 'wen': 98, 'li': 40, 25: 100}"
      ]
     },
     "execution_count": 21,
     "metadata": {},
     "output_type": "execute_result"
    }
   ],
   "source": [
    "name1[25]=100\n",
    "name1"
   ]
  },
  {
   "cell_type": "markdown",
   "id": "6ab53a53",
   "metadata": {},
   "source": [
    "### get一个更宽松的访问字典的方法，当访问一个不存在的键时，不会发生异常，而得到none的值，可以自定义默认的值 ###"
   ]
  },
  {
   "cell_type": "code",
   "execution_count": 22,
   "id": "2d9ca668",
   "metadata": {},
   "outputs": [
    {
     "data": {
      "text/plain": [
       "95"
      ]
     },
     "execution_count": 22,
     "metadata": {},
     "output_type": "execute_result"
    }
   ],
   "source": [
    "name1={\"ding\":95,\"yan\":97,\"wen\":98}\n",
    "name1.get(\"ding\")"
   ]
  },
  {
   "cell_type": "markdown",
   "id": "219ad1c7",
   "metadata": {},
   "source": [
    "### 3.1.4集合 ###"
   ]
  },
  {
   "cell_type": "markdown",
   "id": "212408a4",
   "metadata": {},
   "source": [
    "### 集合：由唯一元素组成的无序集，支持union、intersection、difference、sysmmetric difference等数学运算，包含两种类型：可变集合（set）和不可变集合（forzenset) ###\n",
    "### set不记录元素位置，因此不支持索引、分片等类序列的操作 ###"
   ]
  },
  {
   "cell_type": "code",
   "execution_count": 29,
   "id": "a81ee859",
   "metadata": {},
   "outputs": [
    {
     "data": {
      "text/plain": [
       "({1, 2, 3, 4, 5}, {0, 1, 2, 3, 4, 5, 6, 7, 8, 9})"
      ]
     },
     "execution_count": 29,
     "metadata": {},
     "output_type": "execute_result"
    }
   ],
   "source": [
    "s1=set([1,2,3,4,5])\n",
    "s2={1,2,3,4,5,6,7,8,9,0}\n",
    "s1,s2"
   ]
  },
  {
   "cell_type": "markdown",
   "id": "c733b033",
   "metadata": {},
   "source": [
    "### 3.1.5 推导式 ###\n",
    "### 推导式（comprehensions）是一种将for循环、if表达式以及赋值语句放到单一语句中的方法 ###"
   ]
  },
  {
   "cell_type": "markdown",
   "id": "057e75fc",
   "metadata": {},
   "source": [
    "### 列表推导式 ###"
   ]
  },
  {
   "cell_type": "code",
   "execution_count": 31,
   "id": "63019bc9",
   "metadata": {},
   "outputs": [
    {
     "data": {
      "text/plain": [
       "['DING']"
      ]
     },
     "execution_count": 31,
     "metadata": {},
     "output_type": "execute_result"
    }
   ],
   "source": [
    "string=[\"ding\",\"yan\",\"wen\",\"sdu\"]\n",
    "upper_string=[x.upper() for x in string if len(x)>3]\n",
    "upper_string"
   ]
  },
  {
   "cell_type": "markdown",
   "id": "462a1eb8",
   "metadata": {},
   "source": [
    "### 集合推导式,同列表推导式，其唯一的区别是用的是花括号 ###"
   ]
  },
  {
   "cell_type": "code",
   "execution_count": 32,
   "id": "f54c01aa",
   "metadata": {},
   "outputs": [
    {
     "data": {
      "text/plain": [
       "{3, 4}"
      ]
     },
     "execution_count": 32,
     "metadata": {},
     "output_type": "execute_result"
    }
   ],
   "source": [
    "string=[\"ding\",\"yan\",\"wen\",\"sdu\"]\n",
    "string_len={len(x) for x in string}\n",
    "string_len"
   ]
  },
  {
   "cell_type": "markdown",
   "id": "73226794",
   "metadata": {},
   "source": [
    "### 字典推导式 ###"
   ]
  },
  {
   "cell_type": "code",
   "execution_count": 1,
   "id": "d21b8194",
   "metadata": {},
   "outputs": [
    {
     "data": {
      "text/plain": [
       "{'ding': 0, 'yan': 1, 'wen': 2, 'sdu': 3}"
      ]
     },
     "execution_count": 1,
     "metadata": {},
     "output_type": "execute_result"
    }
   ],
   "source": [
    "string=[\"ding\",\"yan\",\"wen\",\"sdu\"]\n",
    "mapping={val:index for index,val in enumerate(string)}\n",
    "mapping"
   ]
  },
  {
   "cell_type": "code",
   "execution_count": 2,
   "id": "15d72106",
   "metadata": {},
   "outputs": [
    {
     "data": {
      "text/plain": [
       "{'ding': 0, 'yan': 1, 'wen': 2, 'sdu': 3}"
      ]
     },
     "execution_count": 2,
     "metadata": {},
     "output_type": "execute_result"
    }
   ],
   "source": [
    "mapping=dict((val,index) for index,val in enumerate(string))\n",
    "mapping"
   ]
  },
  {
   "cell_type": "markdown",
   "id": "0e4b5b22",
   "metadata": {},
   "source": [
    "### 嵌套推导式 ###"
   ]
  },
  {
   "cell_type": "code",
   "execution_count": 3,
   "id": "dbaf3f68",
   "metadata": {},
   "outputs": [
    {
     "data": {
      "text/plain": [
       "['ding', 'yan', 'wen', 'yan', 'sheng']"
      ]
     },
     "execution_count": 3,
     "metadata": {},
     "output_type": "execute_result"
    }
   ],
   "source": [
    "names=[[\"ding\",\"yan\",\"wen\",\"sdu\"],[\"yan\",\"jiu\",\"sheng\"]]\n",
    "morethan1n=[n1 for n2 in names for n1 in n2 if n1.count(\"n\")>=1] #先写外循环再写内循环\n",
    "morethan1n"
   ]
  },
  {
   "cell_type": "code",
   "execution_count": 4,
   "id": "a743592a",
   "metadata": {},
   "outputs": [
    {
     "data": {
      "text/plain": [
       "['ding', 'yan', 'wen', 'yan', 'sheng']"
      ]
     },
     "execution_count": 4,
     "metadata": {},
     "output_type": "execute_result"
    }
   ],
   "source": [
    "morethan1n=[]\n",
    "for n2 in names:  #因为names有两个元素，循环2次\n",
    "    for n1 in n2: \n",
    "        if n1.count(\"n\")>=1:\n",
    "            morethan1n.append(n1)\n",
    "morethan1n"
   ]
  },
  {
   "cell_type": "code",
   "execution_count": null,
   "id": "0d278861",
   "metadata": {},
   "outputs": [],
   "source": []
  }
 ],
 "metadata": {
  "kernelspec": {
   "display_name": "Python 3 (ipykernel)",
   "language": "python",
   "name": "python3"
  },
  "language_info": {
   "codemirror_mode": {
    "name": "ipython",
    "version": 3
   },
   "file_extension": ".py",
   "mimetype": "text/x-python",
   "name": "python",
   "nbconvert_exporter": "python",
   "pygments_lexer": "ipython3",
   "version": "3.10.2"
  }
 },
 "nbformat": 4,
 "nbformat_minor": 5
}
