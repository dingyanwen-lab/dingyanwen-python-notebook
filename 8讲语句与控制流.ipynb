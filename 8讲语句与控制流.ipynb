{
 "cells": [
  {
   "cell_type": "markdown",
   "id": "2a337d69",
   "metadata": {},
   "source": [
    "## 顺序、条件、循环 ##"
   ]
  },
  {
   "cell_type": "markdown",
   "id": "be186be1",
   "metadata": {},
   "source": [
    "## 1.条件语句 ##"
   ]
  },
  {
   "cell_type": "code",
   "execution_count": 1,
   "id": "89afc23a",
   "metadata": {},
   "outputs": [
    {
     "name": "stdout",
     "output_type": "stream",
     "text": [
      "kid\n"
     ]
    }
   ],
   "source": [
    "age=3\n",
    "if age>=18:\n",
    "    print(\"ad\")\n",
    "elif age>=13:  #语法糖 相当于else if\n",
    "    print(\"teen\")\n",
    "else:\n",
    "    print(\"kid\")"
   ]
  },
  {
   "cell_type": "code",
   "execution_count": 3,
   "id": "04bffa0c",
   "metadata": {},
   "outputs": [
    {
     "name": "stdout",
     "output_type": "stream",
     "text": [
      "you are win!\n"
     ]
    }
   ],
   "source": [
    "a=500000\n",
    "if (a==500000):print(\"you are win!\")"
   ]
  },
  {
   "cell_type": "markdown",
   "id": "660498c7",
   "metadata": {},
   "source": [
    "### 三元表达式：将产生一个值的if-else语句写到一行或一个表达式中： ###"
   ]
  },
  {
   "cell_type": "code",
   "execution_count": 4,
   "id": "90ccc18a",
   "metadata": {},
   "outputs": [
    {
     "data": {
      "text/plain": [
       "'good man'"
      ]
     },
     "execution_count": 4,
     "metadata": {},
     "output_type": "execute_result"
    }
   ],
   "source": [
    "givenname=\"ding\"\n",
    "\"good man\" if givenname==\"ding\" else \"cant find it\"  #三元指的是可以判断if；满足怎么样；不满足怎么样"
   ]
  },
  {
   "cell_type": "markdown",
   "id": "f20ca699",
   "metadata": {},
   "source": [
    "## 2.循环语句 ##"
   ]
  },
  {
   "cell_type": "markdown",
   "id": "00c0418b",
   "metadata": {},
   "source": [
    "### 2.1while循环；当循环 ###"
   ]
  },
  {
   "cell_type": "markdown",
   "id": "7565d209",
   "metadata": {},
   "source": [
    "### while循环：只要条件不为false或循环没有被break显示终止，则代码块将一直不断执行： ###"
   ]
  },
  {
   "cell_type": "code",
   "execution_count": 7,
   "id": "b146e812",
   "metadata": {},
   "outputs": [
    {
     "name": "stdout",
     "output_type": "stream",
     "text": [
      "5050\n"
     ]
    }
   ],
   "source": [
    "s=0;i=1\n",
    "while i<=100:\n",
    "    s+=i\n",
    "    i+=1\n",
    "print(s)"
   ]
  },
  {
   "cell_type": "markdown",
   "id": "3b1201a4",
   "metadata": {},
   "source": [
    "### while...else---else中的语句会在循环正常执行完（在不通过break跳出而中断的）的情况下执行： ###"
   ]
  },
  {
   "cell_type": "code",
   "execution_count": 9,
   "id": "b173cbc5",
   "metadata": {},
   "outputs": [
    {
     "name": "stdout",
     "output_type": "stream",
     "text": [
      "0 is less than 5\n",
      "1 is less than 5\n",
      "2 is less than 5\n",
      "3 is less than 5\n",
      "4 is less than 5\n",
      "5 is less than 5\n",
      "6 is not less than 5\n"
     ]
    }
   ],
   "source": [
    "count=0\n",
    "while count <= 5:\n",
    "    print(count,\"is less than 5\")\n",
    "    count += 1\n",
    "else:\n",
    "    print(count,\"is not less than 5\")"
   ]
  },
  {
   "cell_type": "code",
   "execution_count": 11,
   "id": "0c78fcd2",
   "metadata": {},
   "outputs": [
    {
     "name": "stdout",
     "output_type": "stream",
     "text": [
      "0 is less than 5\n",
      "1 is less than 5\n",
      "2 is less than 5\n"
     ]
    }
   ],
   "source": [
    "count=0\n",
    "while count <= 5:\n",
    "    print(count,\"is less than 5\")\n",
    "    count += 1\n",
    "    if count==3:break\n",
    "else:\n",
    "    print(count,\"is not less than 5\")"
   ]
  },
  {
   "cell_type": "markdown",
   "id": "58a0c335",
   "metadata": {},
   "source": [
    "### 2.2  for 循环  (计数循环、枚举循环)  用于对集合（如列表或元组）或迭代器进行迭代 ###\n",
    "### for value in collection ###"
   ]
  },
  {
   "cell_type": "code",
   "execution_count": 13,
   "id": "687d95ca",
   "metadata": {},
   "outputs": [
    {
     "name": "stdout",
     "output_type": "stream",
     "text": [
      "100\n",
      "name corresponds to dingyanwen\n",
      "age corresponds to 23\n",
      "gender corresponds to male\n",
      "department corresponds to statistic\n"
     ]
    }
   ],
   "source": [
    "s=0\n",
    "for i in range(1,101): #终止值不包括在内\n",
    "    s+=1\n",
    "print(s)\n",
    "d={\"name\":\"dingyanwen\",\"age\":23,\"gender\":\"male\",\"department\":\"statistic\"}\n",
    "for key in d:\n",
    "    print(key,\"corresponds to\",d[key])"
   ]
  },
  {
   "cell_type": "markdown",
   "id": "66bcbccb",
   "metadata": {},
   "source": [
    "### range函数：用于生成一组间隔相等的整数序列，可以指定起始值、终止值以及步长，常用于按索引对序列进行迭代： ###"
   ]
  },
  {
   "cell_type": "code",
   "execution_count": 14,
   "id": "af81f321",
   "metadata": {},
   "outputs": [
    {
     "name": "stdout",
     "output_type": "stream",
     "text": [
      "1\n",
      "2\n",
      "3\n",
      "4\n",
      "5\n"
     ]
    }
   ],
   "source": [
    "seq=[1,2,3,4,5]\n",
    "for i in range(len(seq)):\n",
    "    print(seq[i])"
   ]
  },
  {
   "cell_type": "markdown",
   "id": "c9eecbb8",
   "metadata": {},
   "source": [
    "### xrange函数：用法和range相同，但是其生成的不是一个数组，而是一个迭代器。要生成很大的数字序列时，用xrange会比range效果更好-----仅限于python2  ###"
   ]
  },
  {
   "cell_type": "code",
   "execution_count": 15,
   "id": "ef765340",
   "metadata": {},
   "outputs": [
    {
     "data": {
      "text/plain": [
       "range(0, 10)"
      ]
     },
     "execution_count": 15,
     "metadata": {},
     "output_type": "execute_result"
    }
   ],
   "source": [
    "seq1=range(10)\n",
    "seq1"
   ]
  },
  {
   "cell_type": "code",
   "execution_count": 16,
   "id": "dbbccb45",
   "metadata": {},
   "outputs": [
    {
     "data": {
      "text/plain": [
       "[0, 1, 2, 3, 4, 5, 6, 7, 8, 9]"
      ]
     },
     "execution_count": 16,
     "metadata": {},
     "output_type": "execute_result"
    }
   ],
   "source": [
    "list(seq1)"
   ]
  },
  {
   "cell_type": "code",
   "execution_count": 17,
   "id": "a45ca827",
   "metadata": {},
   "outputs": [
    {
     "ename": "NameError",
     "evalue": "name 'xrange' is not defined",
     "output_type": "error",
     "traceback": [
      "\u001b[1;31m---------------------------------------------------------------------------\u001b[0m",
      "\u001b[1;31mNameError\u001b[0m                                 Traceback (most recent call last)",
      "Input \u001b[1;32mIn [17]\u001b[0m, in \u001b[0;36m<cell line: 1>\u001b[1;34m()\u001b[0m\n\u001b[1;32m----> 1\u001b[0m seq2\u001b[38;5;241m=\u001b[39m\u001b[43mxrange\u001b[49m(\u001b[38;5;241m10\u001b[39m)\n\u001b[0;32m      2\u001b[0m seq2\n",
      "\u001b[1;31mNameError\u001b[0m: name 'xrange' is not defined"
     ]
    }
   ],
   "source": [
    "seq2=xrange(10)\n",
    "seq2"
   ]
  },
  {
   "cell_type": "markdown",
   "id": "61ef104e",
   "metadata": {},
   "source": [
    "### 推导式 ###"
   ]
  },
  {
   "cell_type": "code",
   "execution_count": 18,
   "id": "5766a3db",
   "metadata": {},
   "outputs": [
    {
     "data": {
      "text/plain": [
       "[0, 1, 4, 9, 16, 25, 36, 49, 64, 81]"
      ]
     },
     "execution_count": 18,
     "metadata": {},
     "output_type": "execute_result"
    }
   ],
   "source": [
    "[x*x for x in range(10)]"
   ]
  },
  {
   "cell_type": "code",
   "execution_count": 20,
   "id": "d13879b2",
   "metadata": {},
   "outputs": [
    {
     "name": "stdout",
     "output_type": "stream",
     "text": [
      "[0, 1, 4, 9, 16, 25, 36, 49, 64, 81]\n"
     ]
    }
   ],
   "source": [
    "x=[]\n",
    "for value in range(10):\n",
    "    x.append(value*value)\n",
    "print(x)"
   ]
  },
  {
   "cell_type": "markdown",
   "id": "d97f2f5b",
   "metadata": {},
   "source": [
    "### 3.循环控制语句 ###"
   ]
  },
  {
   "cell_type": "markdown",
   "id": "6ade155a",
   "metadata": {},
   "source": [
    "### break：结束（终止）循环 ###\n",
    "### continue： 中止当前循环，跳到下一次循环的开始 ###\n",
    "### while true/break： 实现一个永远不会自己停止的循环 ###\n",
    "### else：在使用break时，可以使用else语句在没有调用break时执行对应的语句 ###\n",
    "### pass: 不做任何事情，一般用作占位语句 ###"
   ]
  },
  {
   "cell_type": "code",
   "execution_count": 22,
   "id": "970c4110",
   "metadata": {},
   "outputs": [
    {
     "name": "stdout",
     "output_type": "stream",
     "text": [
      "t\n",
      "h\n",
      "i\n",
      "s\n",
      "passed!\n"
     ]
    }
   ],
   "source": [
    "for a in \"this is python\":\n",
    "    if a==\" \":\n",
    "        pass\n",
    "        print(\"passed!\")\n",
    "        break\n",
    "    print(a)"
   ]
  },
  {
   "cell_type": "code",
   "execution_count": null,
   "id": "3cdf9c56",
   "metadata": {},
   "outputs": [],
   "source": []
  }
 ],
 "metadata": {
  "kernelspec": {
   "display_name": "Python 3 (ipykernel)",
   "language": "python",
   "name": "python3"
  },
  "language_info": {
   "codemirror_mode": {
    "name": "ipython",
    "version": 3
   },
   "file_extension": ".py",
   "mimetype": "text/x-python",
   "name": "python",
   "nbconvert_exporter": "python",
   "pygments_lexer": "ipython3",
   "version": "3.10.2"
  }
 },
 "nbformat": 4,
 "nbformat_minor": 5
}
