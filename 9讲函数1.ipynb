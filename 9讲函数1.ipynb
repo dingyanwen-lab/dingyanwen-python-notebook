{
 "cells": [
  {
   "cell_type": "markdown",
   "id": "634b249e",
   "metadata": {},
   "source": [
    "# 函数 #"
   ]
  },
  {
   "cell_type": "markdown",
   "id": "fb0f91b5",
   "metadata": {},
   "source": [
    "## 1. 要调用一个函数，需要知道函数的名称和参数 ##"
   ]
  },
  {
   "cell_type": "code",
   "execution_count": 1,
   "id": "3776b77a",
   "metadata": {},
   "outputs": [
    {
     "data": {
      "text/plain": [
       "18446744073709551616"
      ]
     },
     "execution_count": 1,
     "metadata": {},
     "output_type": "execute_result"
    }
   ],
   "source": [
    "pow(2,64) #2的64次方"
   ]
  },
  {
   "cell_type": "code",
   "execution_count": 9,
   "id": "6275cb06",
   "metadata": {},
   "outputs": [],
   "source": [
    "pow?  #注意：按q键退出帮助信息"
   ]
  },
  {
   "cell_type": "code",
   "execution_count": 12,
   "id": "2cdee7c0",
   "metadata": {},
   "outputs": [
    {
     "name": "stdout",
     "output_type": "stream",
     "text": [
      "Equivalent to base**exp with 2 arguments or base**exp % mod with 3 arguments\n",
      "\n",
      "Some types, such as ints, are able to use a more efficient algorithm when\n",
      "invoked using the three argument form.\n"
     ]
    }
   ],
   "source": [
    "pow.__doc__\n",
    "print(pow.__doc__)"
   ]
  },
  {
   "cell_type": "code",
   "execution_count": 11,
   "id": "99ec666e",
   "metadata": {},
   "outputs": [
    {
     "name": "stdout",
     "output_type": "stream",
     "text": [
      "Help on built-in function pow in module builtins:\n",
      "\n",
      "pow(base, exp, mod=None)\n",
      "    Equivalent to base**exp with 2 arguments or base**exp % mod with 3 arguments\n",
      "    \n",
      "    Some types, such as ints, are able to use a more efficient algorithm when\n",
      "    invoked using the three argument form.\n",
      "\n"
     ]
    }
   ],
   "source": [
    "help(pow)"
   ]
  },
  {
   "cell_type": "markdown",
   "id": "d9bdec62",
   "metadata": {},
   "source": [
    "## 2.自定义函数 ##"
   ]
  },
  {
   "cell_type": "markdown",
   "id": "098da961",
   "metadata": {},
   "source": [
    "### ***代码块以def语句开头 ###\n",
    "### ***依次写出函数名、括号、括号中的参数和冒号 ###\n",
    "### ***函数的第一行语句可以选择性的使用文档字符串用于存放函数说明 ###\n",
    "### ***在缩进块中编写函数体 ###\n",
    "### ***函数的返回值用 return 语句返回，可以返回多个值 ###\n",
    "### ***如果到达函数末尾时没有遇到任何一条return语句则返回none ###"
   ]
  },
  {
   "cell_type": "code",
   "execution_count": 13,
   "id": "972c629b",
   "metadata": {},
   "outputs": [],
   "source": [
    "#def functionname(arguments):\n",
    "#    \"函数文档字符串\"\n",
    "#    function_suite\n",
    "#   return[expression]"
   ]
  },
  {
   "cell_type": "code",
   "execution_count": 2,
   "id": "d8d7437f",
   "metadata": {},
   "outputs": [
    {
     "name": "stdout",
     "output_type": "stream",
     "text": [
      "(151.96152422706632, 70.0)\n"
     ]
    }
   ],
   "source": [
    "import math\n",
    "def move(x,y,step,angle=0):\n",
    "    nx = x+step*math.cos(angle)\n",
    "    ny = y-step*math.sin(angle)\n",
    "    return nx, ny\n",
    "r=move(100,100,60,math.pi/6)\n",
    "print(r)"
   ]
  },
  {
   "cell_type": "markdown",
   "id": "56ceedbe",
   "metadata": {},
   "source": [
    "## 3.参数 ##"
   ]
  },
  {
   "cell_type": "markdown",
   "id": "edc3eab7",
   "metadata": {},
   "source": [
    "## 3.1 必备参数：如上述的x,y,step ##\n",
    "## 3.2 关键字参数：用参数的命名确定传入的参数值 ##"
   ]
  },
  {
   "cell_type": "code",
   "execution_count": 3,
   "id": "37500560",
   "metadata": {},
   "outputs": [
    {
     "name": "stdout",
     "output_type": "stream",
     "text": [
      "(160.0, 100.0)\n"
     ]
    }
   ],
   "source": [
    "r = move(x=100,step=60,y=100)  #乱序传参\n",
    "print(r)"
   ]
  },
  {
   "cell_type": "markdown",
   "id": "33f4906d",
   "metadata": {},
   "source": [
    "## 3.3 不定参数 ##\n",
    "### 3.3.1 加了（*）的变量名会存放所有未命名的变量参数 ###\n",
    "### 在统计分析中，我们往往不清楚数据的样本量，所以这种不定参数的方式很实用 ###"
   ]
  },
  {
   "cell_type": "code",
   "execution_count": 4,
   "id": "47f2a66e",
   "metadata": {},
   "outputs": [
    {
     "name": "stdout",
     "output_type": "stream",
     "text": [
      "输出：\n",
      "100\n",
      "200\n",
      "输出：\n",
      "100\n",
      "123\n",
      "hello\n",
      "dingyanwen\n"
     ]
    }
   ],
   "source": [
    "def printinfo(arg1, *vartuple):\n",
    "    \"打印任何传入的参数\"\n",
    "    print(\"输出：\")\n",
    "    print(arg1)\n",
    "    for var in vartuple:\n",
    "        print(var)\n",
    "    return\n",
    "printinfo(100,200)\n",
    "printinfo(100,123,\"hello\",\"dingyanwen\")"
   ]
  },
  {
   "cell_type": "code",
   "execution_count": 5,
   "id": "a94ee342",
   "metadata": {},
   "outputs": [],
   "source": [
    "printinfo?"
   ]
  },
  {
   "cell_type": "code",
   "execution_count": 7,
   "id": "9dc1cedc",
   "metadata": {},
   "outputs": [
    {
     "data": {
      "text/plain": [
       "110"
      ]
     },
     "execution_count": 7,
     "metadata": {},
     "output_type": "execute_result"
    }
   ],
   "source": [
    "sum([10,100])"
   ]
  },
  {
   "cell_type": "code",
   "execution_count": 8,
   "id": "ad7285a8",
   "metadata": {},
   "outputs": [
    {
     "ename": "TypeError",
     "evalue": "unsupported operand type(s) for +: 'int' and 'tuple'",
     "output_type": "error",
     "traceback": [
      "\u001b[1;31m---------------------------------------------------------------------------\u001b[0m",
      "\u001b[1;31mTypeError\u001b[0m                                 Traceback (most recent call last)",
      "Input \u001b[1;32mIn [8]\u001b[0m, in \u001b[0;36m<cell line: 3>\u001b[1;34m()\u001b[0m\n\u001b[0;32m      1\u001b[0m \u001b[38;5;28;01mdef\u001b[39;00m \u001b[38;5;21msummation\u001b[39m(x,\u001b[38;5;241m*\u001b[39my):\n\u001b[0;32m      2\u001b[0m     \u001b[38;5;28;01mreturn\u001b[39;00m x\u001b[38;5;241m+\u001b[39my\n\u001b[1;32m----> 3\u001b[0m \u001b[43msummation\u001b[49m\u001b[43m(\u001b[49m\u001b[38;5;241;43m1\u001b[39;49m\u001b[43m,\u001b[49m\u001b[38;5;241;43m2\u001b[39;49m\u001b[43m,\u001b[49m\u001b[38;5;241;43m3\u001b[39;49m\u001b[43m)\u001b[49m\n",
      "Input \u001b[1;32mIn [8]\u001b[0m, in \u001b[0;36msummation\u001b[1;34m(x, *y)\u001b[0m\n\u001b[0;32m      1\u001b[0m \u001b[38;5;28;01mdef\u001b[39;00m \u001b[38;5;21msummation\u001b[39m(x,\u001b[38;5;241m*\u001b[39my):\n\u001b[1;32m----> 2\u001b[0m     \u001b[38;5;28;01mreturn\u001b[39;00m \u001b[43mx\u001b[49m\u001b[38;5;241;43m+\u001b[39;49m\u001b[43my\u001b[49m\n",
      "\u001b[1;31mTypeError\u001b[0m: unsupported operand type(s) for +: 'int' and 'tuple'"
     ]
    }
   ],
   "source": [
    "def summation(x,*y):\n",
    "    return x+y\n",
    "summation(1,2,3)"
   ]
  },
  {
   "cell_type": "code",
   "execution_count": 9,
   "id": "699409ed",
   "metadata": {},
   "outputs": [
    {
     "data": {
      "text/plain": [
       "6"
      ]
     },
     "execution_count": 9,
     "metadata": {},
     "output_type": "execute_result"
    }
   ],
   "source": [
    "def summation(*var):\n",
    "    s = 0\n",
    "    for x in var:\n",
    "        s+=x\n",
    "    return s\n",
    "summation(1,2,3)"
   ]
  },
  {
   "cell_type": "markdown",
   "id": "5e21f446",
   "metadata": {},
   "source": [
    "## 3.3.2 一个 * 和两个**的区别 ##\n",
    "### --拆分可迭代对象作为函数参数 ###\n",
    "### --压缩被传递到函数中的参数 ###\n",
    "### --接受只有关键字的位置参数 ###\n",
    "### --元组、列表、字典中的特殊用途 ###"
   ]
  },
  {
   "cell_type": "code",
   "execution_count": 12,
   "id": "6874be74",
   "metadata": {},
   "outputs": [
    {
     "name": "stdout",
     "output_type": "stream",
     "text": [
      "['ding', 'yan', 'wen']\n"
     ]
    }
   ],
   "source": [
    "name=['ding',\"yan\",'wen']\n",
    "print(name)"
   ]
  },
  {
   "cell_type": "code",
   "execution_count": 14,
   "id": "bb67f757",
   "metadata": {},
   "outputs": [
    {
     "name": "stdout",
     "output_type": "stream",
     "text": [
      "ding yan wen\n"
     ]
    }
   ],
   "source": [
    "#拆分可迭代对象作为函数参数\n",
    "name=['ding',\"yan\",'wen']\n",
    "print(*name)"
   ]
  },
  {
   "cell_type": "code",
   "execution_count": 15,
   "id": "5dcc1e1d",
   "metadata": {},
   "outputs": [
    {
     "data": {
      "text/plain": [
       "6"
      ]
     },
     "execution_count": 15,
     "metadata": {},
     "output_type": "execute_result"
    }
   ],
   "source": [
    "#压缩被传递到函数中的参数\n",
    "def summation(*var):\n",
    "    s = 0\n",
    "    for x in var:\n",
    "        s+=x\n",
    "    return s\n",
    "summation(1,2,3)"
   ]
  },
  {
   "cell_type": "code",
   "execution_count": 17,
   "id": "fe793bd6",
   "metadata": {},
   "outputs": [
    {
     "ename": "TypeError",
     "evalue": "summation1() takes 0 positional arguments but 3 were given",
     "output_type": "error",
     "traceback": [
      "\u001b[1;31m---------------------------------------------------------------------------\u001b[0m",
      "\u001b[1;31mTypeError\u001b[0m                                 Traceback (most recent call last)",
      "Input \u001b[1;32mIn [17]\u001b[0m, in \u001b[0;36m<cell line: 7>\u001b[1;34m()\u001b[0m\n\u001b[0;32m      5\u001b[0m         s\u001b[38;5;241m+\u001b[39m\u001b[38;5;241m=\u001b[39mvalue\n\u001b[0;32m      6\u001b[0m     \u001b[38;5;28;01mreturn\u001b[39;00m s\n\u001b[1;32m----> 7\u001b[0m \u001b[43msummation1\u001b[49m\u001b[43m(\u001b[49m\u001b[38;5;241;43m1\u001b[39;49m\u001b[43m,\u001b[49m\u001b[38;5;241;43m2\u001b[39;49m\u001b[43m,\u001b[49m\u001b[38;5;241;43m3\u001b[39;49m\u001b[43m)\u001b[49m\n",
      "\u001b[1;31mTypeError\u001b[0m: summation1() takes 0 positional arguments but 3 were given"
     ]
    }
   ],
   "source": [
    "#接受只有关键字的位置参数\n",
    "def summation1(**var):#有了两个星号就成了字典\n",
    "    s = 0\n",
    "    for key,value in var.items():\n",
    "        s+=value\n",
    "    return s\n",
    "summation1(1,2,3)"
   ]
  },
  {
   "cell_type": "code",
   "execution_count": 18,
   "id": "6e5ffb50",
   "metadata": {},
   "outputs": [
    {
     "data": {
      "text/plain": [
       "6"
      ]
     },
     "execution_count": 18,
     "metadata": {},
     "output_type": "execute_result"
    }
   ],
   "source": [
    "summation1(a=1,b=2,c=3)  #必须要带关键字"
   ]
  },
  {
   "cell_type": "code",
   "execution_count": 19,
   "id": "a1ac77ff",
   "metadata": {},
   "outputs": [
    {
     "ename": "TypeError",
     "evalue": "summation1() takes 0 positional arguments but 1 was given",
     "output_type": "error",
     "traceback": [
      "\u001b[1;31m---------------------------------------------------------------------------\u001b[0m",
      "\u001b[1;31mTypeError\u001b[0m                                 Traceback (most recent call last)",
      "Input \u001b[1;32mIn [19]\u001b[0m, in \u001b[0;36m<cell line: 1>\u001b[1;34m()\u001b[0m\n\u001b[1;32m----> 1\u001b[0m \u001b[43msummation1\u001b[49m\u001b[43m(\u001b[49m\u001b[43m{\u001b[49m\u001b[38;5;124;43m\"\u001b[39;49m\u001b[38;5;124;43ma\u001b[39;49m\u001b[38;5;124;43m\"\u001b[39;49m\u001b[43m:\u001b[49m\u001b[38;5;241;43m1\u001b[39;49m\u001b[43m,\u001b[49m\u001b[38;5;124;43m\"\u001b[39;49m\u001b[38;5;124;43md\u001b[39;49m\u001b[38;5;124;43m\"\u001b[39;49m\u001b[43m:\u001b[49m\u001b[38;5;241;43m2\u001b[39;49m\u001b[43m,\u001b[49m\u001b[38;5;124;43m\"\u001b[39;49m\u001b[38;5;124;43mc\u001b[39;49m\u001b[38;5;124;43m\"\u001b[39;49m\u001b[43m:\u001b[49m\u001b[38;5;241;43m3\u001b[39;49m\u001b[43m}\u001b[49m\u001b[43m)\u001b[49m\n",
      "\u001b[1;31mTypeError\u001b[0m: summation1() takes 0 positional arguments but 1 was given"
     ]
    }
   ],
   "source": [
    "summation1({\"a\":1,\"d\":2,\"c\":3})"
   ]
  },
  {
   "cell_type": "code",
   "execution_count": 20,
   "id": "11069bf9",
   "metadata": {},
   "outputs": [
    {
     "data": {
      "text/plain": [
       "'ding'"
      ]
     },
     "execution_count": 20,
     "metadata": {},
     "output_type": "execute_result"
    }
   ],
   "source": [
    "# 元组、列表、字典中的特殊用途\n",
    "### 拆包\n",
    "name=[\"ding\",\"yan\",\"wen\",\"yi\",\"ding\",'xing']\n",
    "di,ya,*remaining = name\n",
    "di"
   ]
  },
  {
   "cell_type": "code",
   "execution_count": 21,
   "id": "c914824b",
   "metadata": {},
   "outputs": [
    {
     "data": {
      "text/plain": [
       "'yan'"
      ]
     },
     "execution_count": 21,
     "metadata": {},
     "output_type": "execute_result"
    }
   ],
   "source": [
    "ya"
   ]
  },
  {
   "cell_type": "code",
   "execution_count": 22,
   "id": "c40821ad",
   "metadata": {},
   "outputs": [
    {
     "data": {
      "text/plain": [
       "['wen', 'yi', 'ding', 'xing']"
      ]
     },
     "execution_count": 22,
     "metadata": {},
     "output_type": "execute_result"
    }
   ],
   "source": [
    "remaining"
   ]
  },
  {
   "cell_type": "code",
   "execution_count": 23,
   "id": "e7594803",
   "metadata": {},
   "outputs": [
    {
     "data": {
      "text/plain": [
       "['yan', 'wen', 'yi', 'ding']"
      ]
     },
     "execution_count": 23,
     "metadata": {},
     "output_type": "execute_result"
    }
   ],
   "source": [
    "name=[\"ding\",\"yan\",\"wen\",\"yi\",\"ding\",'xing']\n",
    "di,*middle,xi = name\n",
    "middle"
   ]
  },
  {
   "cell_type": "markdown",
   "id": "2a194fac",
   "metadata": {},
   "source": [
    "## 4. 全局对象和局部对象 ##\n",
    "## 这里对象就是变量，全局变量、局部变量 ##"
   ]
  },
  {
   "cell_type": "markdown",
   "id": "7a10e4d6",
   "metadata": {},
   "source": [
    "### 4.1 定义在函数内部的对象拥有一个局部作用域，定义在函数外的拥有全局作用域。当然，可以在函数中用global语句来声名全局对象 ###"
   ]
  },
  {
   "cell_type": "code",
   "execution_count": 27,
   "id": "506ba923",
   "metadata": {},
   "outputs": [
    {
     "name": "stdout",
     "output_type": "stream",
     "text": [
      "inside the function local total: 3\n",
      "outside the fuction global total: 0\n"
     ]
    }
   ],
   "source": [
    "total = 0\n",
    "def sum_user(para1,para2):\n",
    "    total = para1+para2\n",
    "    print(\"inside the function local total:\", total)\n",
    "    return total\n",
    "\n",
    "sum_user(1,2)\n",
    "print(\"outside the function global total:\",total)"
   ]
  },
  {
   "cell_type": "code",
   "execution_count": 28,
   "id": "3bb0d7f3",
   "metadata": {},
   "outputs": [
    {
     "name": "stdout",
     "output_type": "stream",
     "text": [
      "inside the function local total: 3\n",
      "outside the fuction global total: 3\n"
     ]
    }
   ],
   "source": [
    "total = 0\n",
    "def sum_user(para1,para2):\n",
    "    global total\n",
    "    total = para1+para2\n",
    "    print(\"inside the function local total:\", total)\n",
    "    return total\n",
    "\n",
    "sum_user(1,2)\n",
    "print(\"outside the fuction global total:\",total)"
   ]
  },
  {
   "cell_type": "markdown",
   "id": "2c30c6fb",
   "metadata": {},
   "source": [
    "### 4.2 当存在很多函数的嵌套时，对象发挥作用的作用域可能会是其所嵌套函数的上一层，而不是全局，这时可以使用nonlocal语句来声名对此的作用域 ###"
   ]
  },
  {
   "cell_type": "code",
   "execution_count": 33,
   "id": "895160c0",
   "metadata": {},
   "outputs": [
    {
     "name": "stdout",
     "output_type": "stream",
     "text": [
      "inside the sum_user function local total: 30\n",
      "inside the inner function local total: 3\n",
      "outside the all function global total:  0\n"
     ]
    }
   ],
   "source": [
    "total = 0\n",
    "def sum_user(para1,para2):\n",
    "    total = para1+para2\n",
    "    print(\"inside the sum_user function local total:\",total)\n",
    "    def inner(p1=1,p2=2):\n",
    "        nonlocal total     #这时total首先是innner的，inner用完之后，total还是sum_user的\n",
    "        total = p1+p2\n",
    "        print(\"inside the inner function local total:\",total)\n",
    "    inner()\n",
    "    return total   #函数执行完就释放\n",
    "\n",
    "sum_user(10,20)\n",
    "print(\"outside the all function global total: \",total)"
   ]
  },
  {
   "cell_type": "markdown",
   "id": "4d1d9d92",
   "metadata": {},
   "source": [
    "## 5. 匿名（lambda）函数 ##\n",
    "### 仅由单条语句组成，该语句的结果就是返回值。其得名于省略了用def声明函数的标准步骤，没有名称属性 ###\n",
    "### lambda [arg1,arg2...] : expression ###"
   ]
  },
  {
   "cell_type": "markdown",
   "id": "cd65c8ad",
   "metadata": {},
   "source": [
    "### lambda函数能接受任何数量的参数但只能返回一个表达式的值，同时不能包含命令或多个表达式 ###\n",
    "### 匿名函数不能直接调用print，因为lambda需要一个表达式 ###\n",
    "### lambda函数拥有自己的名字空间，且不能访问自有参数列表之外或全局名字空间里的参数 ###\n",
    "### 虽然该函数只能写一行，但是调用函数时不占用栈内存从而增加运行效率 ###"
   ]
  },
  {
   "cell_type": "code",
   "execution_count": 2,
   "id": "90d3a574",
   "metadata": {},
   "outputs": [
    {
     "name": "stdout",
     "output_type": "stream",
     "text": [
      "[1, 4, 9, 16, 25]\n"
     ]
    }
   ],
   "source": [
    "def any_function(some_list,f):\n",
    "    return [f(x) for x in some_list]\n",
    "\n",
    "a=[1,2,3,4,5]\n",
    "b=any_function(a,lambda x:x**2)\n",
    "print(b)"
   ]
  },
  {
   "cell_type": "code",
   "execution_count": 8,
   "id": "c3cc5544",
   "metadata": {},
   "outputs": [
    {
     "data": {
      "text/plain": [
       "['ding', 'ding', 'xing', 'yan', 'wen', 'yi']"
      ]
     },
     "execution_count": 8,
     "metadata": {},
     "output_type": "execute_result"
    }
   ],
   "source": [
    "name=[\"ding\",\"yan\",\"wen\",\"yi\",\"ding\",'xing']\n",
    "name.sort(key = lambda x : len(set(list(x))),reverse=True)\n",
    "name"
   ]
  },
  {
   "cell_type": "code",
   "execution_count": 11,
   "id": "cc7717f5",
   "metadata": {},
   "outputs": [
    {
     "data": {
      "text/plain": [
       "['ding', 'ding', 'wen', 'xing', 'yan', 'yi']"
      ]
     },
     "execution_count": 11,
     "metadata": {},
     "output_type": "execute_result"
    }
   ],
   "source": [
    "name.sort()\n",
    "name"
   ]
  },
  {
   "cell_type": "code",
   "execution_count": null,
   "id": "52bde630",
   "metadata": {},
   "outputs": [],
   "source": []
  }
 ],
 "metadata": {
  "kernelspec": {
   "display_name": "Python 3 (ipykernel)",
   "language": "python",
   "name": "python3"
  },
  "language_info": {
   "codemirror_mode": {
    "name": "ipython",
    "version": 3
   },
   "file_extension": ".py",
   "mimetype": "text/x-python",
   "name": "python",
   "nbconvert_exporter": "python",
   "pygments_lexer": "ipython3",
   "version": "3.10.2"
  }
 },
 "nbformat": 4,
 "nbformat_minor": 5
}
